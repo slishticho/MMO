{
  "cells": [
    {
      "cell_type": "markdown",
      "metadata": {
        "id": "TQZyvBovOIaP"
      },
      "source": [
        "надо ввести в командной строке\n",
        "\n",
        "1. pip install spacy\n",
        "\n",
        "2. spacy download ru_core_news_sm"
      ]
    },
    {
      "cell_type": "markdown",
      "metadata": {
        "id": "ryDrmgYcOIaR"
      },
      "source": [
        "# Lab 5"
      ]
    },
    {
      "cell_type": "markdown",
      "metadata": {
        "id": "YopljOcNOIaR"
      },
      "source": [
        "## Задание:\n",
        "\n",
        "Для произвольного предложения или текста решите следующие задачи:\n",
        " \n",
        "- Токенизация.\n",
        " \n",
        "- Частеречная разметка.\n",
        "\n",
        "- Лемматизация.\n",
        "\n",
        "- Выделение (распознавание) именованных сущностей.\n",
        "\n",
        "- Разбор предложения.\n",
        "\n",
        "Для произвольного набора данных, предназначенного для классификации текстов, решите задачу классификации текста двумя способами:\n",
        "\n",
        "- Способ 1. На основе CountVectorizer или TfidfVectorizer.\n",
        "\n",
        "- Способ 2. На основе моделей word2vec или Glove или fastText.\n",
        "\n",
        "Сравните качество полученных моделей."
      ]
    },
    {
      "cell_type": "code",
      "execution_count": 72,
      "metadata": {
        "id": "2HL-jDMVOIaR"
      },
      "outputs": [],
      "source": [
        "import gzip\n",
        "import shutil\n",
        "import os"
      ]
    },
    {
      "cell_type": "markdown",
      "metadata": {
        "id": "3XVLyLfKOIaS"
      },
      "source": [
        "### Text"
      ]
    },
    {
      "cell_type": "code",
      "execution_count": 73,
      "metadata": {
        "id": "5x6f8BFVOIaS"
      },
      "outputs": [],
      "source": [
        "text1 = 'Москва – субъект Российской Федерации, город федерального значения, столица Российской Федерации.'\n",
        "text2 = 'Компью́тер — устройство или система, способная автоматически выполнять заданную, изменяемую последовательность операций.'\n",
        "text3 = 'Каждая команда самостоятельно описывает свою систему в отдельном спейсе в Confluence. В документировании обязательно участвует техлид, потому что он обязан фиксировать информацию.'"
      ]
    },
    {
      "cell_type": "code",
      "execution_count": 74,
      "metadata": {
        "colab": {
          "base_uri": "https://localhost:8080/",
          "height": 35
        },
        "id": "GHj9-6vPOIaS",
        "outputId": "635c687a-5539-42d7-9dae-412780345ce8"
      },
      "outputs": [
        {
          "output_type": "execute_result",
          "data": {
            "text/plain": [
              "'Москва – субъект Российской Федерации, город федерального значения, столица Российской Федерации.'"
            ],
            "application/vnd.google.colaboratory.intrinsic+json": {
              "type": "string"
            }
          },
          "metadata": {},
          "execution_count": 74
        }
      ],
      "source": [
        "text1"
      ]
    },
    {
      "cell_type": "markdown",
      "metadata": {
        "id": "rlfKg1wvOIaT"
      },
      "source": [
        "## 1. Токенизация"
      ]
    },
    {
      "cell_type": "code",
      "execution_count": 75,
      "metadata": {
        "colab": {
          "base_uri": "https://localhost:8080/"
        },
        "id": "F7fZ34drOIaT",
        "outputId": "76ed39ad-f58e-4ec7-be1c-e42473e7e9a6"
      },
      "outputs": [
        {
          "output_type": "stream",
          "name": "stdout",
          "text": [
            "[nltk_data] Downloading package punkt to /root/nltk_data...\n",
            "[nltk_data]   Package punkt is already up-to-date!\n"
          ]
        },
        {
          "output_type": "execute_result",
          "data": {
            "text/plain": [
              "True"
            ]
          },
          "metadata": {},
          "execution_count": 75
        }
      ],
      "source": [
        "import nltk\n",
        "nltk.download('punkt')"
      ]
    },
    {
      "cell_type": "code",
      "execution_count": 76,
      "metadata": {
        "colab": {
          "base_uri": "https://localhost:8080/"
        },
        "id": "zaJZeIw5OIaU",
        "outputId": "2a244c52-322a-4e61-ed76-c5a3883fd581"
      },
      "outputs": [
        {
          "output_type": "execute_result",
          "data": {
            "text/plain": [
              "['Москва',\n",
              " '–',\n",
              " 'субъект',\n",
              " 'Российской',\n",
              " 'Федерации',\n",
              " ',',\n",
              " 'город',\n",
              " 'федерального',\n",
              " 'значения',\n",
              " ',',\n",
              " 'столица',\n",
              " 'Российской',\n",
              " 'Федерации',\n",
              " '.']"
            ]
          },
          "metadata": {},
          "execution_count": 76
        }
      ],
      "source": [
        "nltk_tk_1 = nltk.WordPunctTokenizer()\n",
        "nltk_tk_1.tokenize(text1)"
      ]
    },
    {
      "cell_type": "code",
      "execution_count": 124,
      "metadata": {
        "colab": {
          "base_uri": "https://localhost:8080/"
        },
        "id": "0O4O1zcKOIaU",
        "outputId": "bcbc30b8-39d6-4571-e56e-6f488ac4733f"
      },
      "outputs": [
        {
          "output_type": "stream",
          "name": "stdout",
          "text": [
            "2\n"
          ]
        },
        {
          "output_type": "execute_result",
          "data": {
            "text/plain": [
              "['Каждая команда самостоятельно описывает свою систему в отдельном спейсе в Confluence.',\n",
              " 'В документировании обязательно участвует техлид, потому что он обязан фиксировать информацию.']"
            ]
          },
          "metadata": {},
          "execution_count": 124
        }
      ],
      "source": [
        "# Токенизация по предложениям\n",
        "nltk_tk_sents = nltk.tokenize.sent_tokenize(text3)\n",
        "print(len(nltk_tk_sents))\n",
        "nltk_tk_sents"
      ]
    },
    {
      "cell_type": "code",
      "execution_count": 78,
      "metadata": {
        "scrolled": true,
        "colab": {
          "base_uri": "https://localhost:8080/"
        },
        "id": "EAPzJhwNOIaU",
        "outputId": "f1cbe796-0d8f-45ff-e8fb-356ee0ee6f60"
      },
      "outputs": [
        {
          "output_type": "execute_result",
          "data": {
            "text/plain": [
              "Москва – субъект Российской Федерации, город федерального значения, столица Российской Федерации."
            ]
          },
          "metadata": {},
          "execution_count": 78
        }
      ],
      "source": [
        "from spacy.lang.ru import Russian\n",
        "import spacy\n",
        "nlp = spacy.load('ru_core_news_sm')\n",
        "spacy_text1 = nlp(text1)\n",
        "spacy_text1"
      ]
    },
    {
      "cell_type": "code",
      "execution_count": 79,
      "metadata": {
        "colab": {
          "base_uri": "https://localhost:8080/"
        },
        "id": "bRyltnD3OIaU",
        "outputId": "b06b0667-33f0-4a50-be78-68f4ea1285d1"
      },
      "outputs": [
        {
          "output_type": "stream",
          "name": "stdout",
          "text": [
            "Москва\n",
            "–\n",
            "субъект\n",
            "Российской\n",
            "Федерации\n",
            ",\n",
            "город\n",
            "федерального\n",
            "значения\n",
            ",\n",
            "столица\n",
            "Российской\n",
            "Федерации\n",
            ".\n"
          ]
        }
      ],
      "source": [
        "for t in spacy_text1:\n",
        "    print(t)"
      ]
    },
    {
      "cell_type": "code",
      "execution_count": 80,
      "metadata": {
        "colab": {
          "base_uri": "https://localhost:8080/"
        },
        "id": "eKvB_0aTOIaV",
        "outputId": "29e13674-f095-4cdc-cbfa-d7b0ac91207b"
      },
      "outputs": [
        {
          "output_type": "execute_result",
          "data": {
            "text/plain": [
              "Компью́тер — устройство или система, способная автоматически выполнять заданную, изменяемую последовательность операций."
            ]
          },
          "metadata": {},
          "execution_count": 80
        }
      ],
      "source": [
        "spacy_text2 = nlp(text2)\n",
        "spacy_text2"
      ]
    },
    {
      "cell_type": "code",
      "execution_count": 81,
      "metadata": {
        "colab": {
          "base_uri": "https://localhost:8080/"
        },
        "id": "WabcBqHWOIaV",
        "outputId": "54e7c982-963f-4279-8b0b-d08a0bb84255"
      },
      "outputs": [
        {
          "output_type": "execute_result",
          "data": {
            "text/plain": [
              "Каждая команда самостоятельно описывает свою систему в отдельном спейсе в Confluence. В документировании обязательно участвует техлид, потому что он обязан фиксировать информацию."
            ]
          },
          "metadata": {},
          "execution_count": 81
        }
      ],
      "source": [
        "spacy_text3 = nlp(text3)\n",
        "spacy_text3"
      ]
    },
    {
      "cell_type": "markdown",
      "metadata": {
        "id": "f8pryFNvOIaV"
      },
      "source": [
        "## 2. Частеречная разметка (Part-Of-Speech tagging, POS-tagging)\n"
      ]
    },
    {
      "cell_type": "markdown",
      "source": [
        "**Части речи:**\n",
        "\n",
        "ADJ : прилагательное\n",
        "ADP : сложение\n",
        "ADV : наречие\n",
        "AUX : вспомогательный глагол\n",
        "CONJ : координационное соединение\n",
        "DET : определитель\n",
        "INTJ : междометие\n",
        "NOUN : существительное\n",
        "NUM : цифра\n",
        "PART : частица\n",
        "PRON : местоимение\n",
        "PROPN : собственное существительное\n",
        "PUNCT : пунктуация\n",
        "SCONJ : подчиненное соединение\n",
        "SYM : символ\n",
        "VERB : глагол\n",
        "X : другие [11 129]"
      ],
      "metadata": {
        "id": "lLbzNhHjxRmx"
      }
    },
    {
      "cell_type": "markdown",
      "source": [
        "**Маркеры зависимостей:**\n",
        "\n",
        "ACL: модификатор Clausal существительного\n",
        "ACOMP: дополнительное прилагательное\n",
        "ADVCL: модификатор условного выражения\n",
        "ADVMOD: Модификатор наречий\n",
        "AGENT: Агент\n",
        "AMOD: Модификатор прилагательного\n",
        "APPOS: Модификатор аппозиции\n",
        "ATTR: Атрибут\n",
        "AUX: вспомогательный\n",
        "AUXPASS: вспомогательный (пассивный)\n",
        "CASE: маркер регистра\n",
        "CC: координационное соединение\n",
        "CCOMP: дополнение Клауса\n",
        "COMPOUND: модификатор соединения\n",
        "CONJ: соединение\n",
        "CSUBJ: субъект Клауса\n",
        "CSUBJPASS: субъект (пассивный)\n",
        "DATIVE: дательный падеж\n",
        "DEP: неклассифицированный зависимый\n",
        "DET: определитель\n",
        "DOBJ: прямой объект\n",
        "EXPL: исключительный\n",
        "INTJ: междометие\n",
        "MARK: маркер\n",
        "META: мета-модификатор\n",
        "NEG: модификатор отрицания\n",
        "NOUNMOD: модификатор именного\n",
        "NPMOD: существительная фраза как модификатор наречий\n",
        "NSUBJ: Номинальный предмет\n",
        "NSUBJPASS: Номинальный с ubject (пассивный)\n",
        "NUMMOD: модификатор числа\n",
        "OPRD: предикат объекта\n",
        "PARATAXIS: паратаксис\n",
        "PCOMP: дополнить предлога\n",
        "POBJ: объект предлога\n",
        "POSS: модификатор владения\n",
        "PRECONJ: прекорреляционное соединение\n",
        "PREDET : Предопределитель\n",
        "PREP: модификатор предложения\n",
        "PRT: частица\n",
        "PUNCT: пунктуация\n",
        "QUANTMOD: модификатор квантификатор\n",
        "RELCL: модификатор относительного предложения\n",
        "ROOT: корень\n",
        "XCOMP: дополнение дополнения Клауса"
      ],
      "metadata": {
        "id": "YHO1piuSxnaN"
      }
    },
    {
      "cell_type": "code",
      "execution_count": 82,
      "metadata": {
        "colab": {
          "base_uri": "https://localhost:8080/"
        },
        "id": "VtTgzXrPOIaV",
        "outputId": "881e3e64-5913-44d9-f8f8-60e3fd76a09e"
      },
      "outputs": [
        {
          "output_type": "stream",
          "name": "stdout",
          "text": [
            "Москва - PROPN - nsubj\n",
            "– - PUNCT - punct\n",
            "субъект - NOUN - ROOT\n",
            "Российской - ADJ - amod\n",
            "Федерации - PROPN - nmod\n",
            ", - PUNCT - punct\n",
            "город - NOUN - conj\n",
            "федерального - ADJ - amod\n",
            "значения - NOUN - nmod\n",
            ", - PUNCT - punct\n",
            "столица - NOUN - conj\n",
            "Российской - ADJ - amod\n",
            "Федерации - PROPN - nmod\n",
            ". - PUNCT - punct\n"
          ]
        }
      ],
      "source": [
        "for token in spacy_text1:\n",
        "    print('{} - {} - {}'.format(token.text, token.pos_, token.dep_))"
      ]
    },
    {
      "cell_type": "markdown",
      "metadata": {
        "id": "RkjCh-tBOIaW"
      },
      "source": [
        "## 3. Лемматизация"
      ]
    },
    {
      "cell_type": "markdown",
      "source": [
        "Лемматиза́ция — процесс приведения словоформы к лемме — её нормальной (словарной) форме."
      ],
      "metadata": {
        "id": "JhC1DJjHyOCc"
      }
    },
    {
      "cell_type": "code",
      "execution_count": 83,
      "metadata": {
        "colab": {
          "base_uri": "https://localhost:8080/"
        },
        "id": "7yiYq-yjOIaW",
        "outputId": "0fd8919b-b25f-48bc-a1bf-b2fc9fae2bba"
      },
      "outputs": [
        {
          "output_type": "stream",
          "name": "stdout",
          "text": [
            "Москва 2024491446765022735 москва\n",
            "– 10118409446379451916 –\n",
            "субъект 5779892742164157195 субъект\n",
            "Российской 8743586033229497895 российский\n",
            "Федерации 17544574402116927377 федерация\n",
            ", 2593208677638477497 ,\n",
            "город 6063391427805833384 город\n",
            "федерального 5629012161944038127 федеральный\n",
            "значения 16067096663908442516 значение\n",
            ", 2593208677638477497 ,\n",
            "столица 1614450328813257700 столица\n",
            "Российской 8743586033229497895 российский\n",
            "Федерации 17544574402116927377 федерация\n",
            ". 12646065887601541794 .\n"
          ]
        }
      ],
      "source": [
        "for token in spacy_text1:\n",
        "      print(token, token.lemma, token.lemma_)"
      ]
    },
    {
      "cell_type": "code",
      "execution_count": 84,
      "metadata": {
        "colab": {
          "base_uri": "https://localhost:8080/"
        },
        "id": "zyeJ9_1pOIaW",
        "outputId": "abf32d47-6216-4763-f14a-7b091872ffe3"
      },
      "outputs": [
        {
          "output_type": "stream",
          "name": "stdout",
          "text": [
            "Компью́тер 12912987382217120328 компью́тер\n",
            "— 13657828488461764581 —\n",
            "устройство 10492756853830742723 устройство\n",
            "или 1530020831762146143 или\n",
            "система 10806820580119676155 система\n",
            ", 2593208677638477497 ,\n",
            "способная 13108567891086621765 способный\n",
            "автоматически 5975173677958312864 автоматически\n",
            "выполнять 14549708613259400590 выполнять\n",
            "заданную 8895562851783861756 заданный\n",
            ", 2593208677638477497 ,\n",
            "изменяемую 9594268370200524705 изменять\n",
            "последовательность 6980406905395651857 последовательность\n",
            "операций 1853852287414025385 операция\n",
            ". 12646065887601541794 .\n"
          ]
        }
      ],
      "source": [
        "for token in spacy_text2:\n",
        "      print(token, token.lemma, token.lemma_)"
      ]
    },
    {
      "cell_type": "markdown",
      "metadata": {
        "id": "buT0TH24OIaW"
      },
      "source": [
        "## 4. Выделение (распознавание) именованных сущностей, named-entity recognition (NER)\n"
      ]
    },
    {
      "cell_type": "code",
      "execution_count": 85,
      "metadata": {
        "colab": {
          "base_uri": "https://localhost:8080/"
        },
        "id": "w9AwC7mAOIaX",
        "outputId": "5180ffa6-d951-4beb-bcc0-b505dde8d0e9"
      },
      "outputs": [
        {
          "output_type": "stream",
          "name": "stdout",
          "text": [
            "Confluence ORG\n"
          ]
        }
      ],
      "source": [
        "for ent in spacy_text3.ents:\n",
        "    print(ent.text, ent.label_)"
      ]
    },
    {
      "cell_type": "code",
      "execution_count": 126,
      "metadata": {
        "colab": {
          "base_uri": "https://localhost:8080/",
          "height": 52
        },
        "id": "GH9jMJHaOIaX",
        "outputId": "3cddcd7d-a624-4575-8bc6-8e1b0fb1dc0d"
      },
      "outputs": [
        {
          "output_type": "display_data",
          "data": {
            "text/plain": [
              "<IPython.core.display.HTML object>"
            ],
            "text/html": [
              "<span class=\"tex2jax_ignore\"><div class=\"entities\" style=\"line-height: 2.5; direction: ltr\">\n",
              "<mark class=\"entity\" style=\"background: #ff9561; padding: 0.45em 0.6em; margin: 0 0.25em; line-height: 1; border-radius: 0.35em;\">\n",
              "    Москва\n",
              "    <span style=\"font-size: 0.8em; font-weight: bold; line-height: 1; border-radius: 0.35em; vertical-align: middle; margin-left: 0.5rem\">LOC</span>\n",
              "</mark>\n",
              " – субъект \n",
              "<mark class=\"entity\" style=\"background: #ff9561; padding: 0.45em 0.6em; margin: 0 0.25em; line-height: 1; border-radius: 0.35em;\">\n",
              "    Российской Федерации\n",
              "    <span style=\"font-size: 0.8em; font-weight: bold; line-height: 1; border-radius: 0.35em; vertical-align: middle; margin-left: 0.5rem\">LOC</span>\n",
              "</mark>\n",
              ", город федерального значения, столица \n",
              "<mark class=\"entity\" style=\"background: #ff9561; padding: 0.45em 0.6em; margin: 0 0.25em; line-height: 1; border-radius: 0.35em;\">\n",
              "    Российской Федерации\n",
              "    <span style=\"font-size: 0.8em; font-weight: bold; line-height: 1; border-radius: 0.35em; vertical-align: middle; margin-left: 0.5rem\">LOC</span>\n",
              "</mark>\n",
              ".</div></span>"
            ]
          },
          "metadata": {}
        }
      ],
      "source": [
        "from spacy import displacy\n",
        "displacy.render(spacy_text1, style='ent', jupyter=True)"
      ]
    },
    {
      "cell_type": "code",
      "execution_count": 87,
      "metadata": {
        "colab": {
          "base_uri": "https://localhost:8080/"
        },
        "id": "Avm0X74JOIaX",
        "outputId": "82fd083e-409a-4a5a-f1ff-6e67f7c6fdc9"
      },
      "outputs": [
        {
          "output_type": "stream",
          "name": "stdout",
          "text": [
            "Companies, agencies, institutions, etc.\n"
          ]
        }
      ],
      "source": [
        "print(spacy.explain(\"ORG\"))"
      ]
    },
    {
      "cell_type": "code",
      "execution_count": 88,
      "metadata": {
        "colab": {
          "base_uri": "https://localhost:8080/"
        },
        "id": "HJnA1Mv1OIaX",
        "outputId": "11601f01-af0a-4336-a093-d10868b95244"
      },
      "outputs": [
        {
          "output_type": "stream",
          "name": "stdout",
          "text": [
            "Non-GPE locations, mountain ranges, bodies of water\n"
          ]
        }
      ],
      "source": [
        "print(spacy.explain(\"LOC\"))"
      ]
    },
    {
      "cell_type": "markdown",
      "metadata": {
        "id": "EeZUNpJ7OIaX"
      },
      "source": [
        "## 5. Разбор предложения"
      ]
    },
    {
      "cell_type": "code",
      "execution_count": 89,
      "metadata": {
        "id": "JH-4haHZOIaY"
      },
      "outputs": [],
      "source": [
        "from spacy import displacy"
      ]
    },
    {
      "cell_type": "code",
      "execution_count": 90,
      "metadata": {
        "colab": {
          "base_uri": "https://localhost:8080/",
          "height": 527
        },
        "id": "LnzSv4g4OIaY",
        "outputId": "ff259be1-53fd-466c-a3d9-d90d62aaa6cb"
      },
      "outputs": [
        {
          "output_type": "display_data",
          "data": {
            "text/plain": [
              "<IPython.core.display.HTML object>"
            ],
            "text/html": [
              "<span class=\"tex2jax_ignore\"><svg xmlns=\"http://www.w3.org/2000/svg\" xmlns:xlink=\"http://www.w3.org/1999/xlink\" xml:lang=\"ru\" id=\"731631eb91d24c618bc4fe1444155712-0\" class=\"displacy\" width=\"1800\" height=\"487.0\" direction=\"ltr\" style=\"max-width: none; height: 487.0px; color: #000000; background: #ffffff; font-family: Arial; direction: ltr\">\n",
              "<text class=\"displacy-token\" fill=\"currentColor\" text-anchor=\"middle\" y=\"397.0\">\n",
              "    <tspan class=\"displacy-word\" fill=\"currentColor\" x=\"50\">Москва –</tspan>\n",
              "    <tspan class=\"displacy-tag\" dy=\"2em\" fill=\"currentColor\" x=\"50\">PROPN</tspan>\n",
              "</text>\n",
              "\n",
              "<text class=\"displacy-token\" fill=\"currentColor\" text-anchor=\"middle\" y=\"397.0\">\n",
              "    <tspan class=\"displacy-word\" fill=\"currentColor\" x=\"225\">субъект</tspan>\n",
              "    <tspan class=\"displacy-tag\" dy=\"2em\" fill=\"currentColor\" x=\"225\">NOUN</tspan>\n",
              "</text>\n",
              "\n",
              "<text class=\"displacy-token\" fill=\"currentColor\" text-anchor=\"middle\" y=\"397.0\">\n",
              "    <tspan class=\"displacy-word\" fill=\"currentColor\" x=\"400\">Российской</tspan>\n",
              "    <tspan class=\"displacy-tag\" dy=\"2em\" fill=\"currentColor\" x=\"400\">ADJ</tspan>\n",
              "</text>\n",
              "\n",
              "<text class=\"displacy-token\" fill=\"currentColor\" text-anchor=\"middle\" y=\"397.0\">\n",
              "    <tspan class=\"displacy-word\" fill=\"currentColor\" x=\"575\">Федерации,</tspan>\n",
              "    <tspan class=\"displacy-tag\" dy=\"2em\" fill=\"currentColor\" x=\"575\">PROPN</tspan>\n",
              "</text>\n",
              "\n",
              "<text class=\"displacy-token\" fill=\"currentColor\" text-anchor=\"middle\" y=\"397.0\">\n",
              "    <tspan class=\"displacy-word\" fill=\"currentColor\" x=\"750\">город</tspan>\n",
              "    <tspan class=\"displacy-tag\" dy=\"2em\" fill=\"currentColor\" x=\"750\">NOUN</tspan>\n",
              "</text>\n",
              "\n",
              "<text class=\"displacy-token\" fill=\"currentColor\" text-anchor=\"middle\" y=\"397.0\">\n",
              "    <tspan class=\"displacy-word\" fill=\"currentColor\" x=\"925\">федерального</tspan>\n",
              "    <tspan class=\"displacy-tag\" dy=\"2em\" fill=\"currentColor\" x=\"925\">ADJ</tspan>\n",
              "</text>\n",
              "\n",
              "<text class=\"displacy-token\" fill=\"currentColor\" text-anchor=\"middle\" y=\"397.0\">\n",
              "    <tspan class=\"displacy-word\" fill=\"currentColor\" x=\"1100\">значения,</tspan>\n",
              "    <tspan class=\"displacy-tag\" dy=\"2em\" fill=\"currentColor\" x=\"1100\">NOUN</tspan>\n",
              "</text>\n",
              "\n",
              "<text class=\"displacy-token\" fill=\"currentColor\" text-anchor=\"middle\" y=\"397.0\">\n",
              "    <tspan class=\"displacy-word\" fill=\"currentColor\" x=\"1275\">столица</tspan>\n",
              "    <tspan class=\"displacy-tag\" dy=\"2em\" fill=\"currentColor\" x=\"1275\">NOUN</tspan>\n",
              "</text>\n",
              "\n",
              "<text class=\"displacy-token\" fill=\"currentColor\" text-anchor=\"middle\" y=\"397.0\">\n",
              "    <tspan class=\"displacy-word\" fill=\"currentColor\" x=\"1450\">Российской</tspan>\n",
              "    <tspan class=\"displacy-tag\" dy=\"2em\" fill=\"currentColor\" x=\"1450\">ADJ</tspan>\n",
              "</text>\n",
              "\n",
              "<text class=\"displacy-token\" fill=\"currentColor\" text-anchor=\"middle\" y=\"397.0\">\n",
              "    <tspan class=\"displacy-word\" fill=\"currentColor\" x=\"1625\">Федерации.</tspan>\n",
              "    <tspan class=\"displacy-tag\" dy=\"2em\" fill=\"currentColor\" x=\"1625\">PROPN</tspan>\n",
              "</text>\n",
              "\n",
              "<g class=\"displacy-arrow\">\n",
              "    <path class=\"displacy-arc\" id=\"arrow-731631eb91d24c618bc4fe1444155712-0-0\" stroke-width=\"2px\" d=\"M70,352.0 C70,264.5 210.0,264.5 210.0,352.0\" fill=\"none\" stroke=\"currentColor\"/>\n",
              "    <text dy=\"1.25em\" style=\"font-size: 0.8em; letter-spacing: 1px\">\n",
              "        <textPath xlink:href=\"#arrow-731631eb91d24c618bc4fe1444155712-0-0\" class=\"displacy-label\" startOffset=\"50%\" side=\"left\" fill=\"currentColor\" text-anchor=\"middle\">nsubj</textPath>\n",
              "    </text>\n",
              "    <path class=\"displacy-arrowhead\" d=\"M70,354.0 L62,342.0 78,342.0\" fill=\"currentColor\"/>\n",
              "</g>\n",
              "\n",
              "<g class=\"displacy-arrow\">\n",
              "    <path class=\"displacy-arc\" id=\"arrow-731631eb91d24c618bc4fe1444155712-0-1\" stroke-width=\"2px\" d=\"M420,352.0 C420,264.5 560.0,264.5 560.0,352.0\" fill=\"none\" stroke=\"currentColor\"/>\n",
              "    <text dy=\"1.25em\" style=\"font-size: 0.8em; letter-spacing: 1px\">\n",
              "        <textPath xlink:href=\"#arrow-731631eb91d24c618bc4fe1444155712-0-1\" class=\"displacy-label\" startOffset=\"50%\" side=\"left\" fill=\"currentColor\" text-anchor=\"middle\">amod</textPath>\n",
              "    </text>\n",
              "    <path class=\"displacy-arrowhead\" d=\"M420,354.0 L412,342.0 428,342.0\" fill=\"currentColor\"/>\n",
              "</g>\n",
              "\n",
              "<g class=\"displacy-arrow\">\n",
              "    <path class=\"displacy-arc\" id=\"arrow-731631eb91d24c618bc4fe1444155712-0-2\" stroke-width=\"2px\" d=\"M245,352.0 C245,177.0 565.0,177.0 565.0,352.0\" fill=\"none\" stroke=\"currentColor\"/>\n",
              "    <text dy=\"1.25em\" style=\"font-size: 0.8em; letter-spacing: 1px\">\n",
              "        <textPath xlink:href=\"#arrow-731631eb91d24c618bc4fe1444155712-0-2\" class=\"displacy-label\" startOffset=\"50%\" side=\"left\" fill=\"currentColor\" text-anchor=\"middle\">nmod</textPath>\n",
              "    </text>\n",
              "    <path class=\"displacy-arrowhead\" d=\"M565.0,354.0 L573.0,342.0 557.0,342.0\" fill=\"currentColor\"/>\n",
              "</g>\n",
              "\n",
              "<g class=\"displacy-arrow\">\n",
              "    <path class=\"displacy-arc\" id=\"arrow-731631eb91d24c618bc4fe1444155712-0-3\" stroke-width=\"2px\" d=\"M245,352.0 C245,89.5 745.0,89.5 745.0,352.0\" fill=\"none\" stroke=\"currentColor\"/>\n",
              "    <text dy=\"1.25em\" style=\"font-size: 0.8em; letter-spacing: 1px\">\n",
              "        <textPath xlink:href=\"#arrow-731631eb91d24c618bc4fe1444155712-0-3\" class=\"displacy-label\" startOffset=\"50%\" side=\"left\" fill=\"currentColor\" text-anchor=\"middle\">conj</textPath>\n",
              "    </text>\n",
              "    <path class=\"displacy-arrowhead\" d=\"M745.0,354.0 L753.0,342.0 737.0,342.0\" fill=\"currentColor\"/>\n",
              "</g>\n",
              "\n",
              "<g class=\"displacy-arrow\">\n",
              "    <path class=\"displacy-arc\" id=\"arrow-731631eb91d24c618bc4fe1444155712-0-4\" stroke-width=\"2px\" d=\"M945,352.0 C945,264.5 1085.0,264.5 1085.0,352.0\" fill=\"none\" stroke=\"currentColor\"/>\n",
              "    <text dy=\"1.25em\" style=\"font-size: 0.8em; letter-spacing: 1px\">\n",
              "        <textPath xlink:href=\"#arrow-731631eb91d24c618bc4fe1444155712-0-4\" class=\"displacy-label\" startOffset=\"50%\" side=\"left\" fill=\"currentColor\" text-anchor=\"middle\">amod</textPath>\n",
              "    </text>\n",
              "    <path class=\"displacy-arrowhead\" d=\"M945,354.0 L937,342.0 953,342.0\" fill=\"currentColor\"/>\n",
              "</g>\n",
              "\n",
              "<g class=\"displacy-arrow\">\n",
              "    <path class=\"displacy-arc\" id=\"arrow-731631eb91d24c618bc4fe1444155712-0-5\" stroke-width=\"2px\" d=\"M770,352.0 C770,177.0 1090.0,177.0 1090.0,352.0\" fill=\"none\" stroke=\"currentColor\"/>\n",
              "    <text dy=\"1.25em\" style=\"font-size: 0.8em; letter-spacing: 1px\">\n",
              "        <textPath xlink:href=\"#arrow-731631eb91d24c618bc4fe1444155712-0-5\" class=\"displacy-label\" startOffset=\"50%\" side=\"left\" fill=\"currentColor\" text-anchor=\"middle\">nmod</textPath>\n",
              "    </text>\n",
              "    <path class=\"displacy-arrowhead\" d=\"M1090.0,354.0 L1098.0,342.0 1082.0,342.0\" fill=\"currentColor\"/>\n",
              "</g>\n",
              "\n",
              "<g class=\"displacy-arrow\">\n",
              "    <path class=\"displacy-arc\" id=\"arrow-731631eb91d24c618bc4fe1444155712-0-6\" stroke-width=\"2px\" d=\"M245,352.0 C245,2.0 1275.0,2.0 1275.0,352.0\" fill=\"none\" stroke=\"currentColor\"/>\n",
              "    <text dy=\"1.25em\" style=\"font-size: 0.8em; letter-spacing: 1px\">\n",
              "        <textPath xlink:href=\"#arrow-731631eb91d24c618bc4fe1444155712-0-6\" class=\"displacy-label\" startOffset=\"50%\" side=\"left\" fill=\"currentColor\" text-anchor=\"middle\">conj</textPath>\n",
              "    </text>\n",
              "    <path class=\"displacy-arrowhead\" d=\"M1275.0,354.0 L1283.0,342.0 1267.0,342.0\" fill=\"currentColor\"/>\n",
              "</g>\n",
              "\n",
              "<g class=\"displacy-arrow\">\n",
              "    <path class=\"displacy-arc\" id=\"arrow-731631eb91d24c618bc4fe1444155712-0-7\" stroke-width=\"2px\" d=\"M1470,352.0 C1470,264.5 1610.0,264.5 1610.0,352.0\" fill=\"none\" stroke=\"currentColor\"/>\n",
              "    <text dy=\"1.25em\" style=\"font-size: 0.8em; letter-spacing: 1px\">\n",
              "        <textPath xlink:href=\"#arrow-731631eb91d24c618bc4fe1444155712-0-7\" class=\"displacy-label\" startOffset=\"50%\" side=\"left\" fill=\"currentColor\" text-anchor=\"middle\">amod</textPath>\n",
              "    </text>\n",
              "    <path class=\"displacy-arrowhead\" d=\"M1470,354.0 L1462,342.0 1478,342.0\" fill=\"currentColor\"/>\n",
              "</g>\n",
              "\n",
              "<g class=\"displacy-arrow\">\n",
              "    <path class=\"displacy-arc\" id=\"arrow-731631eb91d24c618bc4fe1444155712-0-8\" stroke-width=\"2px\" d=\"M1295,352.0 C1295,177.0 1615.0,177.0 1615.0,352.0\" fill=\"none\" stroke=\"currentColor\"/>\n",
              "    <text dy=\"1.25em\" style=\"font-size: 0.8em; letter-spacing: 1px\">\n",
              "        <textPath xlink:href=\"#arrow-731631eb91d24c618bc4fe1444155712-0-8\" class=\"displacy-label\" startOffset=\"50%\" side=\"left\" fill=\"currentColor\" text-anchor=\"middle\">nmod</textPath>\n",
              "    </text>\n",
              "    <path class=\"displacy-arrowhead\" d=\"M1615.0,354.0 L1623.0,342.0 1607.0,342.0\" fill=\"currentColor\"/>\n",
              "</g>\n",
              "</svg></span>"
            ]
          },
          "metadata": {}
        }
      ],
      "source": [
        "displacy.render(spacy_text1, style='dep', jupyter=True)"
      ]
    },
    {
      "cell_type": "code",
      "execution_count": 91,
      "metadata": {
        "colab": {
          "base_uri": "https://localhost:8080/",
          "height": 440
        },
        "id": "1wM-WiJiOIaY",
        "outputId": "d4abb58c-4154-4a9c-d036-18e7d682b32f"
      },
      "outputs": [
        {
          "output_type": "display_data",
          "data": {
            "text/plain": [
              "<IPython.core.display.HTML object>"
            ],
            "text/html": [
              "<span class=\"tex2jax_ignore\"><svg xmlns=\"http://www.w3.org/2000/svg\" xmlns:xlink=\"http://www.w3.org/1999/xlink\" xml:lang=\"ru\" id=\"4097c40d7c304e59889f7aa26cdd58cd-0\" class=\"displacy\" width=\"1975\" height=\"399.5\" direction=\"ltr\" style=\"max-width: none; height: 399.5px; color: #000000; background: #ffffff; font-family: Arial; direction: ltr\">\n",
              "<text class=\"displacy-token\" fill=\"currentColor\" text-anchor=\"middle\" y=\"309.5\">\n",
              "    <tspan class=\"displacy-word\" fill=\"currentColor\" x=\"50\">Компью́тер —</tspan>\n",
              "    <tspan class=\"displacy-tag\" dy=\"2em\" fill=\"currentColor\" x=\"50\">NOUN</tspan>\n",
              "</text>\n",
              "\n",
              "<text class=\"displacy-token\" fill=\"currentColor\" text-anchor=\"middle\" y=\"309.5\">\n",
              "    <tspan class=\"displacy-word\" fill=\"currentColor\" x=\"225\">устройство</tspan>\n",
              "    <tspan class=\"displacy-tag\" dy=\"2em\" fill=\"currentColor\" x=\"225\">NOUN</tspan>\n",
              "</text>\n",
              "\n",
              "<text class=\"displacy-token\" fill=\"currentColor\" text-anchor=\"middle\" y=\"309.5\">\n",
              "    <tspan class=\"displacy-word\" fill=\"currentColor\" x=\"400\">или</tspan>\n",
              "    <tspan class=\"displacy-tag\" dy=\"2em\" fill=\"currentColor\" x=\"400\">CCONJ</tspan>\n",
              "</text>\n",
              "\n",
              "<text class=\"displacy-token\" fill=\"currentColor\" text-anchor=\"middle\" y=\"309.5\">\n",
              "    <tspan class=\"displacy-word\" fill=\"currentColor\" x=\"575\">система,</tspan>\n",
              "    <tspan class=\"displacy-tag\" dy=\"2em\" fill=\"currentColor\" x=\"575\">NOUN</tspan>\n",
              "</text>\n",
              "\n",
              "<text class=\"displacy-token\" fill=\"currentColor\" text-anchor=\"middle\" y=\"309.5\">\n",
              "    <tspan class=\"displacy-word\" fill=\"currentColor\" x=\"750\">способная</tspan>\n",
              "    <tspan class=\"displacy-tag\" dy=\"2em\" fill=\"currentColor\" x=\"750\">ADJ</tspan>\n",
              "</text>\n",
              "\n",
              "<text class=\"displacy-token\" fill=\"currentColor\" text-anchor=\"middle\" y=\"309.5\">\n",
              "    <tspan class=\"displacy-word\" fill=\"currentColor\" x=\"925\">автоматически</tspan>\n",
              "    <tspan class=\"displacy-tag\" dy=\"2em\" fill=\"currentColor\" x=\"925\">ADV</tspan>\n",
              "</text>\n",
              "\n",
              "<text class=\"displacy-token\" fill=\"currentColor\" text-anchor=\"middle\" y=\"309.5\">\n",
              "    <tspan class=\"displacy-word\" fill=\"currentColor\" x=\"1100\">выполнять</tspan>\n",
              "    <tspan class=\"displacy-tag\" dy=\"2em\" fill=\"currentColor\" x=\"1100\">VERB</tspan>\n",
              "</text>\n",
              "\n",
              "<text class=\"displacy-token\" fill=\"currentColor\" text-anchor=\"middle\" y=\"309.5\">\n",
              "    <tspan class=\"displacy-word\" fill=\"currentColor\" x=\"1275\">заданную,</tspan>\n",
              "    <tspan class=\"displacy-tag\" dy=\"2em\" fill=\"currentColor\" x=\"1275\">ADJ</tspan>\n",
              "</text>\n",
              "\n",
              "<text class=\"displacy-token\" fill=\"currentColor\" text-anchor=\"middle\" y=\"309.5\">\n",
              "    <tspan class=\"displacy-word\" fill=\"currentColor\" x=\"1450\">изменяемую</tspan>\n",
              "    <tspan class=\"displacy-tag\" dy=\"2em\" fill=\"currentColor\" x=\"1450\">VERB</tspan>\n",
              "</text>\n",
              "\n",
              "<text class=\"displacy-token\" fill=\"currentColor\" text-anchor=\"middle\" y=\"309.5\">\n",
              "    <tspan class=\"displacy-word\" fill=\"currentColor\" x=\"1625\">последовательность</tspan>\n",
              "    <tspan class=\"displacy-tag\" dy=\"2em\" fill=\"currentColor\" x=\"1625\">NOUN</tspan>\n",
              "</text>\n",
              "\n",
              "<text class=\"displacy-token\" fill=\"currentColor\" text-anchor=\"middle\" y=\"309.5\">\n",
              "    <tspan class=\"displacy-word\" fill=\"currentColor\" x=\"1800\">операций.</tspan>\n",
              "    <tspan class=\"displacy-tag\" dy=\"2em\" fill=\"currentColor\" x=\"1800\">NOUN</tspan>\n",
              "</text>\n",
              "\n",
              "<g class=\"displacy-arrow\">\n",
              "    <path class=\"displacy-arc\" id=\"arrow-4097c40d7c304e59889f7aa26cdd58cd-0-0\" stroke-width=\"2px\" d=\"M70,264.5 C70,177.0 215.0,177.0 215.0,264.5\" fill=\"none\" stroke=\"currentColor\"/>\n",
              "    <text dy=\"1.25em\" style=\"font-size: 0.8em; letter-spacing: 1px\">\n",
              "        <textPath xlink:href=\"#arrow-4097c40d7c304e59889f7aa26cdd58cd-0-0\" class=\"displacy-label\" startOffset=\"50%\" side=\"left\" fill=\"currentColor\" text-anchor=\"middle\">nsubj</textPath>\n",
              "    </text>\n",
              "    <path class=\"displacy-arrowhead\" d=\"M70,266.5 L62,254.5 78,254.5\" fill=\"currentColor\"/>\n",
              "</g>\n",
              "\n",
              "<g class=\"displacy-arrow\">\n",
              "    <path class=\"displacy-arc\" id=\"arrow-4097c40d7c304e59889f7aa26cdd58cd-0-1\" stroke-width=\"2px\" d=\"M420,264.5 C420,177.0 565.0,177.0 565.0,264.5\" fill=\"none\" stroke=\"currentColor\"/>\n",
              "    <text dy=\"1.25em\" style=\"font-size: 0.8em; letter-spacing: 1px\">\n",
              "        <textPath xlink:href=\"#arrow-4097c40d7c304e59889f7aa26cdd58cd-0-1\" class=\"displacy-label\" startOffset=\"50%\" side=\"left\" fill=\"currentColor\" text-anchor=\"middle\">cc</textPath>\n",
              "    </text>\n",
              "    <path class=\"displacy-arrowhead\" d=\"M420,266.5 L412,254.5 428,254.5\" fill=\"currentColor\"/>\n",
              "</g>\n",
              "\n",
              "<g class=\"displacy-arrow\">\n",
              "    <path class=\"displacy-arc\" id=\"arrow-4097c40d7c304e59889f7aa26cdd58cd-0-2\" stroke-width=\"2px\" d=\"M245,264.5 C245,89.5 570.0,89.5 570.0,264.5\" fill=\"none\" stroke=\"currentColor\"/>\n",
              "    <text dy=\"1.25em\" style=\"font-size: 0.8em; letter-spacing: 1px\">\n",
              "        <textPath xlink:href=\"#arrow-4097c40d7c304e59889f7aa26cdd58cd-0-2\" class=\"displacy-label\" startOffset=\"50%\" side=\"left\" fill=\"currentColor\" text-anchor=\"middle\">conj</textPath>\n",
              "    </text>\n",
              "    <path class=\"displacy-arrowhead\" d=\"M570.0,266.5 L578.0,254.5 562.0,254.5\" fill=\"currentColor\"/>\n",
              "</g>\n",
              "\n",
              "<g class=\"displacy-arrow\">\n",
              "    <path class=\"displacy-arc\" id=\"arrow-4097c40d7c304e59889f7aa26cdd58cd-0-3\" stroke-width=\"2px\" d=\"M595,264.5 C595,177.0 740.0,177.0 740.0,264.5\" fill=\"none\" stroke=\"currentColor\"/>\n",
              "    <text dy=\"1.25em\" style=\"font-size: 0.8em; letter-spacing: 1px\">\n",
              "        <textPath xlink:href=\"#arrow-4097c40d7c304e59889f7aa26cdd58cd-0-3\" class=\"displacy-label\" startOffset=\"50%\" side=\"left\" fill=\"currentColor\" text-anchor=\"middle\">acl</textPath>\n",
              "    </text>\n",
              "    <path class=\"displacy-arrowhead\" d=\"M740.0,266.5 L748.0,254.5 732.0,254.5\" fill=\"currentColor\"/>\n",
              "</g>\n",
              "\n",
              "<g class=\"displacy-arrow\">\n",
              "    <path class=\"displacy-arc\" id=\"arrow-4097c40d7c304e59889f7aa26cdd58cd-0-4\" stroke-width=\"2px\" d=\"M945,264.5 C945,177.0 1090.0,177.0 1090.0,264.5\" fill=\"none\" stroke=\"currentColor\"/>\n",
              "    <text dy=\"1.25em\" style=\"font-size: 0.8em; letter-spacing: 1px\">\n",
              "        <textPath xlink:href=\"#arrow-4097c40d7c304e59889f7aa26cdd58cd-0-4\" class=\"displacy-label\" startOffset=\"50%\" side=\"left\" fill=\"currentColor\" text-anchor=\"middle\">advmod</textPath>\n",
              "    </text>\n",
              "    <path class=\"displacy-arrowhead\" d=\"M945,266.5 L937,254.5 953,254.5\" fill=\"currentColor\"/>\n",
              "</g>\n",
              "\n",
              "<g class=\"displacy-arrow\">\n",
              "    <path class=\"displacy-arc\" id=\"arrow-4097c40d7c304e59889f7aa26cdd58cd-0-5\" stroke-width=\"2px\" d=\"M770,264.5 C770,89.5 1095.0,89.5 1095.0,264.5\" fill=\"none\" stroke=\"currentColor\"/>\n",
              "    <text dy=\"1.25em\" style=\"font-size: 0.8em; letter-spacing: 1px\">\n",
              "        <textPath xlink:href=\"#arrow-4097c40d7c304e59889f7aa26cdd58cd-0-5\" class=\"displacy-label\" startOffset=\"50%\" side=\"left\" fill=\"currentColor\" text-anchor=\"middle\">xcomp</textPath>\n",
              "    </text>\n",
              "    <path class=\"displacy-arrowhead\" d=\"M1095.0,266.5 L1103.0,254.5 1087.0,254.5\" fill=\"currentColor\"/>\n",
              "</g>\n",
              "\n",
              "<g class=\"displacy-arrow\">\n",
              "    <path class=\"displacy-arc\" id=\"arrow-4097c40d7c304e59889f7aa26cdd58cd-0-6\" stroke-width=\"2px\" d=\"M1295,264.5 C1295,89.5 1620.0,89.5 1620.0,264.5\" fill=\"none\" stroke=\"currentColor\"/>\n",
              "    <text dy=\"1.25em\" style=\"font-size: 0.8em; letter-spacing: 1px\">\n",
              "        <textPath xlink:href=\"#arrow-4097c40d7c304e59889f7aa26cdd58cd-0-6\" class=\"displacy-label\" startOffset=\"50%\" side=\"left\" fill=\"currentColor\" text-anchor=\"middle\">amod</textPath>\n",
              "    </text>\n",
              "    <path class=\"displacy-arrowhead\" d=\"M1295,266.5 L1287,254.5 1303,254.5\" fill=\"currentColor\"/>\n",
              "</g>\n",
              "\n",
              "<g class=\"displacy-arrow\">\n",
              "    <path class=\"displacy-arc\" id=\"arrow-4097c40d7c304e59889f7aa26cdd58cd-0-7\" stroke-width=\"2px\" d=\"M1295,264.5 C1295,177.0 1440.0,177.0 1440.0,264.5\" fill=\"none\" stroke=\"currentColor\"/>\n",
              "    <text dy=\"1.25em\" style=\"font-size: 0.8em; letter-spacing: 1px\">\n",
              "        <textPath xlink:href=\"#arrow-4097c40d7c304e59889f7aa26cdd58cd-0-7\" class=\"displacy-label\" startOffset=\"50%\" side=\"left\" fill=\"currentColor\" text-anchor=\"middle\">conj</textPath>\n",
              "    </text>\n",
              "    <path class=\"displacy-arrowhead\" d=\"M1440.0,266.5 L1448.0,254.5 1432.0,254.5\" fill=\"currentColor\"/>\n",
              "</g>\n",
              "\n",
              "<g class=\"displacy-arrow\">\n",
              "    <path class=\"displacy-arc\" id=\"arrow-4097c40d7c304e59889f7aa26cdd58cd-0-8\" stroke-width=\"2px\" d=\"M1120,264.5 C1120,2.0 1625.0,2.0 1625.0,264.5\" fill=\"none\" stroke=\"currentColor\"/>\n",
              "    <text dy=\"1.25em\" style=\"font-size: 0.8em; letter-spacing: 1px\">\n",
              "        <textPath xlink:href=\"#arrow-4097c40d7c304e59889f7aa26cdd58cd-0-8\" class=\"displacy-label\" startOffset=\"50%\" side=\"left\" fill=\"currentColor\" text-anchor=\"middle\">obj</textPath>\n",
              "    </text>\n",
              "    <path class=\"displacy-arrowhead\" d=\"M1625.0,266.5 L1633.0,254.5 1617.0,254.5\" fill=\"currentColor\"/>\n",
              "</g>\n",
              "\n",
              "<g class=\"displacy-arrow\">\n",
              "    <path class=\"displacy-arc\" id=\"arrow-4097c40d7c304e59889f7aa26cdd58cd-0-9\" stroke-width=\"2px\" d=\"M1645,264.5 C1645,177.0 1790.0,177.0 1790.0,264.5\" fill=\"none\" stroke=\"currentColor\"/>\n",
              "    <text dy=\"1.25em\" style=\"font-size: 0.8em; letter-spacing: 1px\">\n",
              "        <textPath xlink:href=\"#arrow-4097c40d7c304e59889f7aa26cdd58cd-0-9\" class=\"displacy-label\" startOffset=\"50%\" side=\"left\" fill=\"currentColor\" text-anchor=\"middle\">nmod</textPath>\n",
              "    </text>\n",
              "    <path class=\"displacy-arrowhead\" d=\"M1790.0,266.5 L1798.0,254.5 1782.0,254.5\" fill=\"currentColor\"/>\n",
              "</g>\n",
              "</svg></span>"
            ]
          },
          "metadata": {}
        }
      ],
      "source": [
        "displacy.render(spacy_text2, style='dep', jupyter=True)"
      ]
    },
    {
      "cell_type": "code",
      "execution_count": 92,
      "metadata": {
        "colab": {
          "base_uri": "https://localhost:8080/"
        },
        "id": "DMU8U_zlOIaY",
        "outputId": "5292a78f-6a81-435f-f390-705e346fbb88"
      },
      "outputs": [
        {
          "output_type": "stream",
          "name": "stdout",
          "text": [
            "appositional modifier\n"
          ]
        }
      ],
      "source": [
        "print(spacy.explain(\"appos\"))"
      ]
    },
    {
      "cell_type": "code",
      "execution_count": 93,
      "metadata": {
        "colab": {
          "base_uri": "https://localhost:8080/"
        },
        "id": "kMsakoe5OIaY",
        "outputId": "27dca7f5-fb3e-45f6-eff4-5549cec6d656"
      },
      "outputs": [
        {
          "output_type": "stream",
          "name": "stdout",
          "text": [
            "case marking\n"
          ]
        }
      ],
      "source": [
        "print(spacy.explain(\"case\"))"
      ]
    },
    {
      "cell_type": "code",
      "execution_count": 94,
      "metadata": {
        "colab": {
          "base_uri": "https://localhost:8080/"
        },
        "id": "CZbO-WPlOIaY",
        "outputId": "fc0ba011-9c15-45db-e974-ed4fff7f3dd7"
      },
      "outputs": [
        {
          "output_type": "stream",
          "name": "stdout",
          "text": [
            "modifier of nominal\n"
          ]
        }
      ],
      "source": [
        "print(spacy.explain(\"nmod\"))"
      ]
    },
    {
      "cell_type": "markdown",
      "metadata": {
        "id": "GZXCiJa-OIaY"
      },
      "source": [
        "# Classification models"
      ]
    },
    {
      "cell_type": "code",
      "execution_count": 95,
      "metadata": {
        "id": "nVZn6AnkOIaZ"
      },
      "outputs": [],
      "source": [
        "import gensim\n",
        "from gensim.models import word2vec"
      ]
    },
    {
      "cell_type": "code",
      "execution_count": 96,
      "metadata": {
        "colab": {
          "base_uri": "https://localhost:8080/"
        },
        "id": "icmoKVGOOIaZ",
        "outputId": "e5dc0292-a05f-4fcb-e570-358a9cbb263d"
      },
      "outputs": [
        {
          "output_type": "stream",
          "name": "stdout",
          "text": [
            "[nltk_data] Downloading package stopwords to /root/nltk_data...\n",
            "[nltk_data]   Package stopwords is already up-to-date!\n"
          ]
        },
        {
          "output_type": "execute_result",
          "data": {
            "text/plain": [
              "True"
            ]
          },
          "metadata": {},
          "execution_count": 96
        }
      ],
      "source": [
        "import re\n",
        "import pandas as pd\n",
        "import numpy as np\n",
        "from typing import Dict, Tuple\n",
        "from sklearn.metrics import accuracy_score, balanced_accuracy_score\n",
        "from sklearn.feature_extraction.text import CountVectorizer, TfidfVectorizer\n",
        "from sklearn.linear_model import LogisticRegression\n",
        "from sklearn.pipeline import Pipeline\n",
        "from nltk import WordPunctTokenizer\n",
        "from nltk.corpus import stopwords\n",
        "import nltk\n",
        "nltk.download('stopwords')"
      ]
    },
    {
      "cell_type": "code",
      "execution_count": 97,
      "metadata": {
        "id": "GM5ubBG1OIaZ"
      },
      "outputs": [],
      "source": [
        "datasets_dirname = './datasets/'\n",
        "if os.path.exists(datasets_dirname) == 0:\n",
        "    os.mkdir(datasets_dirname)\n",
        "    \n",
        "with gzip.open(datasets_dirname + 'clickbait_data.gz', 'rb') as f_in:\n",
        "    with open(datasets_dirname + 'clickbait_data.txt', 'wb') as f_out:\n",
        "        shutil.copyfileobj(f_in, f_out)\n",
        "        \n",
        "with gzip.open(datasets_dirname + 'non_clickbait_data.gz', 'rb') as f_in:\n",
        "    with open(datasets_dirname + 'non_clickbait_data.txt', 'wb') as f_out:\n",
        "        shutil.copyfileobj(f_in, f_out)"
      ]
    },
    {
      "cell_type": "code",
      "execution_count": 98,
      "metadata": {
        "colab": {
          "base_uri": "https://localhost:8080/",
          "height": 424
        },
        "id": "4_t1bY6dOIaZ",
        "outputId": "e3e92ac6-682d-4d31-d91a-064619deb7fb"
      },
      "outputs": [
        {
          "output_type": "execute_result",
          "data": {
            "text/plain": [
              "                                                    text  target\n",
              "2874          What Do You Actually Deserve For Christmas       1\n",
              "11511  Mamdouh Habib to be released from Guantanamo B...       0\n",
              "10350      How Much British History Do You Actually Know       1\n",
              "4702   How Many Of These \"Harry Potter\" Characters Ca...       1\n",
              "9078   Man arrested in connection with July 21 London...       0\n",
              "...                                                  ...     ...\n",
              "6518   Mayor of Flint, Michigan resigns for health re...       0\n",
              "13895  Freddie From \"ICarly\" Got Hitched And Your Chi...       1\n",
              "8124   Australian Vaulter Returns to Millrose Games a...       0\n",
              "2061                      Haiti relief efforts: in depth       0\n",
              "6186   Can You Match The Halloween Costume To The TV ...       1\n",
              "\n",
              "[32000 rows x 2 columns]"
            ],
            "text/html": [
              "\n",
              "  <div id=\"df-3b0cc525-9bd2-4279-a1a1-72ff59d1ca7e\">\n",
              "    <div class=\"colab-df-container\">\n",
              "      <div>\n",
              "<style scoped>\n",
              "    .dataframe tbody tr th:only-of-type {\n",
              "        vertical-align: middle;\n",
              "    }\n",
              "\n",
              "    .dataframe tbody tr th {\n",
              "        vertical-align: top;\n",
              "    }\n",
              "\n",
              "    .dataframe thead th {\n",
              "        text-align: right;\n",
              "    }\n",
              "</style>\n",
              "<table border=\"1\" class=\"dataframe\">\n",
              "  <thead>\n",
              "    <tr style=\"text-align: right;\">\n",
              "      <th></th>\n",
              "      <th>text</th>\n",
              "      <th>target</th>\n",
              "    </tr>\n",
              "  </thead>\n",
              "  <tbody>\n",
              "    <tr>\n",
              "      <th>2874</th>\n",
              "      <td>What Do You Actually Deserve For Christmas</td>\n",
              "      <td>1</td>\n",
              "    </tr>\n",
              "    <tr>\n",
              "      <th>11511</th>\n",
              "      <td>Mamdouh Habib to be released from Guantanamo B...</td>\n",
              "      <td>0</td>\n",
              "    </tr>\n",
              "    <tr>\n",
              "      <th>10350</th>\n",
              "      <td>How Much British History Do You Actually Know</td>\n",
              "      <td>1</td>\n",
              "    </tr>\n",
              "    <tr>\n",
              "      <th>4702</th>\n",
              "      <td>How Many Of These \"Harry Potter\" Characters Ca...</td>\n",
              "      <td>1</td>\n",
              "    </tr>\n",
              "    <tr>\n",
              "      <th>9078</th>\n",
              "      <td>Man arrested in connection with July 21 London...</td>\n",
              "      <td>0</td>\n",
              "    </tr>\n",
              "    <tr>\n",
              "      <th>...</th>\n",
              "      <td>...</td>\n",
              "      <td>...</td>\n",
              "    </tr>\n",
              "    <tr>\n",
              "      <th>6518</th>\n",
              "      <td>Mayor of Flint, Michigan resigns for health re...</td>\n",
              "      <td>0</td>\n",
              "    </tr>\n",
              "    <tr>\n",
              "      <th>13895</th>\n",
              "      <td>Freddie From \"ICarly\" Got Hitched And Your Chi...</td>\n",
              "      <td>1</td>\n",
              "    </tr>\n",
              "    <tr>\n",
              "      <th>8124</th>\n",
              "      <td>Australian Vaulter Returns to Millrose Games a...</td>\n",
              "      <td>0</td>\n",
              "    </tr>\n",
              "    <tr>\n",
              "      <th>2061</th>\n",
              "      <td>Haiti relief efforts: in depth</td>\n",
              "      <td>0</td>\n",
              "    </tr>\n",
              "    <tr>\n",
              "      <th>6186</th>\n",
              "      <td>Can You Match The Halloween Costume To The TV ...</td>\n",
              "      <td>1</td>\n",
              "    </tr>\n",
              "  </tbody>\n",
              "</table>\n",
              "<p>32000 rows × 2 columns</p>\n",
              "</div>\n",
              "      <button class=\"colab-df-convert\" onclick=\"convertToInteractive('df-3b0cc525-9bd2-4279-a1a1-72ff59d1ca7e')\"\n",
              "              title=\"Convert this dataframe to an interactive table.\"\n",
              "              style=\"display:none;\">\n",
              "        \n",
              "  <svg xmlns=\"http://www.w3.org/2000/svg\" height=\"24px\"viewBox=\"0 0 24 24\"\n",
              "       width=\"24px\">\n",
              "    <path d=\"M0 0h24v24H0V0z\" fill=\"none\"/>\n",
              "    <path d=\"M18.56 5.44l.94 2.06.94-2.06 2.06-.94-2.06-.94-.94-2.06-.94 2.06-2.06.94zm-11 1L8.5 8.5l.94-2.06 2.06-.94-2.06-.94L8.5 2.5l-.94 2.06-2.06.94zm10 10l.94 2.06.94-2.06 2.06-.94-2.06-.94-.94-2.06-.94 2.06-2.06.94z\"/><path d=\"M17.41 7.96l-1.37-1.37c-.4-.4-.92-.59-1.43-.59-.52 0-1.04.2-1.43.59L10.3 9.45l-7.72 7.72c-.78.78-.78 2.05 0 2.83L4 21.41c.39.39.9.59 1.41.59.51 0 1.02-.2 1.41-.59l7.78-7.78 2.81-2.81c.8-.78.8-2.07 0-2.86zM5.41 20L4 18.59l7.72-7.72 1.47 1.35L5.41 20z\"/>\n",
              "  </svg>\n",
              "      </button>\n",
              "      \n",
              "  <style>\n",
              "    .colab-df-container {\n",
              "      display:flex;\n",
              "      flex-wrap:wrap;\n",
              "      gap: 12px;\n",
              "    }\n",
              "\n",
              "    .colab-df-convert {\n",
              "      background-color: #E8F0FE;\n",
              "      border: none;\n",
              "      border-radius: 50%;\n",
              "      cursor: pointer;\n",
              "      display: none;\n",
              "      fill: #1967D2;\n",
              "      height: 32px;\n",
              "      padding: 0 0 0 0;\n",
              "      width: 32px;\n",
              "    }\n",
              "\n",
              "    .colab-df-convert:hover {\n",
              "      background-color: #E2EBFA;\n",
              "      box-shadow: 0px 1px 2px rgba(60, 64, 67, 0.3), 0px 1px 3px 1px rgba(60, 64, 67, 0.15);\n",
              "      fill: #174EA6;\n",
              "    }\n",
              "\n",
              "    [theme=dark] .colab-df-convert {\n",
              "      background-color: #3B4455;\n",
              "      fill: #D2E3FC;\n",
              "    }\n",
              "\n",
              "    [theme=dark] .colab-df-convert:hover {\n",
              "      background-color: #434B5C;\n",
              "      box-shadow: 0px 1px 3px 1px rgba(0, 0, 0, 0.15);\n",
              "      filter: drop-shadow(0px 1px 2px rgba(0, 0, 0, 0.3));\n",
              "      fill: #FFFFFF;\n",
              "    }\n",
              "  </style>\n",
              "\n",
              "      <script>\n",
              "        const buttonEl =\n",
              "          document.querySelector('#df-3b0cc525-9bd2-4279-a1a1-72ff59d1ca7e button.colab-df-convert');\n",
              "        buttonEl.style.display =\n",
              "          google.colab.kernel.accessAllowed ? 'block' : 'none';\n",
              "\n",
              "        async function convertToInteractive(key) {\n",
              "          const element = document.querySelector('#df-3b0cc525-9bd2-4279-a1a1-72ff59d1ca7e');\n",
              "          const dataTable =\n",
              "            await google.colab.kernel.invokeFunction('convertToInteractive',\n",
              "                                                     [key], {});\n",
              "          if (!dataTable) return;\n",
              "\n",
              "          const docLinkHtml = 'Like what you see? Visit the ' +\n",
              "            '<a target=\"_blank\" href=https://colab.research.google.com/notebooks/data_table.ipynb>data table notebook</a>'\n",
              "            + ' to learn more about interactive tables.';\n",
              "          element.innerHTML = '';\n",
              "          dataTable['output_type'] = 'display_data';\n",
              "          await google.colab.output.renderOutput(dataTable, element);\n",
              "          const docLink = document.createElement('div');\n",
              "          docLink.innerHTML = docLinkHtml;\n",
              "          element.appendChild(docLink);\n",
              "        }\n",
              "      </script>\n",
              "    </div>\n",
              "  </div>\n",
              "  "
            ]
          },
          "metadata": {},
          "execution_count": 98
        }
      ],
      "source": [
        "import pandas as pd\n",
        "\n",
        "clickbait = pd.read_csv(datasets_dirname + 'clickbait_data.txt', delimiter='__label__ ', header=None, names=['text'])\n",
        "clickbait['target'] = 1\n",
        "clickbait\n",
        "\n",
        "non_clickbait = pd.read_csv(datasets_dirname + 'non_clickbait_data.txt', delimiter='__label__ ', header=None, names=['text'])\n",
        "non_clickbait['target'] = 0\n",
        "\n",
        "df = pd.concat([clickbait, non_clickbait], axis=0)\n",
        "df = df.sample(frac=1)\n",
        "\n",
        "df.to_csv(datasets_dirname + 'dataset.csv', index=False)\n",
        "os.remove(datasets_dirname + 'clickbait_data.txt')\n",
        "os.remove(datasets_dirname + 'non_clickbait_data.txt')\n",
        "\n",
        "df"
      ]
    },
    {
      "cell_type": "code",
      "execution_count": 99,
      "metadata": {
        "colab": {
          "base_uri": "https://localhost:8080/"
        },
        "id": "JBeKgEsZOIaZ",
        "outputId": "40c8fc2a-dd13-4f9f-e247-6261b45d8ddf"
      },
      "outputs": [
        {
          "output_type": "execute_result",
          "data": {
            "text/plain": [
              "0    16001\n",
              "1    15999\n",
              "Name: target, dtype: int64"
            ]
          },
          "metadata": {},
          "execution_count": 99
        }
      ],
      "source": [
        "df.target.value_counts()"
      ]
    },
    {
      "cell_type": "code",
      "execution_count": 100,
      "metadata": {
        "id": "-53lemnZOIaa"
      },
      "outputs": [],
      "source": [
        "# Подготовим корпус\n",
        "corpus = []\n",
        "stop_words = stopwords.words('english')\n",
        "tok = WordPunctTokenizer()\n",
        "for line in df['text'].values:\n",
        "    line1 = line.strip().lower()\n",
        "    line1 = re.sub(\"[^a-zA-Z]\",\" \", line1)\n",
        "    text_tok = tok.tokenize(line1)\n",
        "    text_tok1 = [w for w in text_tok if not w in stop_words]\n",
        "    corpus.append(text_tok1)"
      ]
    },
    {
      "cell_type": "code",
      "execution_count": 101,
      "metadata": {
        "colab": {
          "base_uri": "https://localhost:8080/"
        },
        "id": "6ICzdklKOIaa",
        "outputId": "f6dc65a5-9f77-4719-a60d-c35dc490487e"
      },
      "outputs": [
        {
          "output_type": "execute_result",
          "data": {
            "text/plain": [
              "[['actually', 'deserve', 'christmas'],\n",
              " ['mamdouh', 'habib', 'released', 'guantanamo', 'bay', 'without', 'charge'],\n",
              " ['much', 'british', 'history', 'actually', 'know'],\n",
              " ['many', 'harry', 'potter', 'characters', 'name'],\n",
              " ['man', 'arrested', 'connection', 'july', 'london', 'bomb', 'attempts']]"
            ]
          },
          "metadata": {},
          "execution_count": 101
        }
      ],
      "source": [
        "corpus[:5]"
      ]
    },
    {
      "cell_type": "code",
      "execution_count": 102,
      "metadata": {
        "id": "Y4Tk9tIFOIaa"
      },
      "outputs": [],
      "source": [
        "# количество текстов в корпусе не изменилось и соответствует целевому признаку\n",
        "assert df.shape[0]==len(corpus)"
      ]
    },
    {
      "cell_type": "code",
      "execution_count": 103,
      "metadata": {
        "colab": {
          "base_uri": "https://localhost:8080/"
        },
        "id": "zRb55dZ6OIaa",
        "outputId": "40c670b7-0a18-4c4a-c19e-47ff0bf49ee3"
      },
      "outputs": [
        {
          "output_type": "stream",
          "name": "stdout",
          "text": [
            "CPU times: user 4 µs, sys: 0 ns, total: 4 µs\n",
            "Wall time: 8.58 µs\n"
          ]
        }
      ],
      "source": [
        "%time \n",
        "model_imdb = word2vec.Word2Vec(corpus, workers=4, min_count=10, window=10, sample=1e-3)"
      ]
    },
    {
      "cell_type": "code",
      "execution_count": 104,
      "metadata": {
        "colab": {
          "base_uri": "https://localhost:8080/"
        },
        "id": "uffO2sn1OIaa",
        "outputId": "a0195b0c-52c2-43fb-a24f-8ec2cc683ff8"
      },
      "outputs": [
        {
          "output_type": "stream",
          "name": "stdout",
          "text": [
            "[('ellen', 0.9997909069061279), ('still', 0.9997831583023071), ('meet', 0.9997776746749878), ('gave', 0.9997653365135193), ('office', 0.9997544288635254)]\n"
          ]
        }
      ],
      "source": [
        "# Проверим, что модель обучилась\n",
        "print(model_imdb.wv.most_similar(positive=['great'], topn=5))"
      ]
    },
    {
      "cell_type": "code",
      "execution_count": 105,
      "metadata": {
        "id": "VxsBR2uNOIaa"
      },
      "outputs": [],
      "source": [
        "word2vec\n",
        "\n",
        "def sentiment(v, c):\n",
        "    model = Pipeline(\n",
        "        [(\"vectorizer\", v), \n",
        "         (\"classifier\", c)])\n",
        "    model.fit(X_train, y_train)\n",
        "    y_pred = model.predict(X_test)\n",
        "    print_accuracy_score_for_classes(y_test, y_pred)"
      ]
    },
    {
      "cell_type": "code",
      "execution_count": 106,
      "metadata": {
        "id": "7BBWIOzkOIab"
      },
      "outputs": [],
      "source": [
        "def accuracy_score_for_classes(\n",
        "    y_true: np.ndarray, \n",
        "    y_pred: np.ndarray) -> Dict[int, float]:\n",
        "    \"\"\"\n",
        "    Вычисление метрики accuracy для каждого класса\n",
        "    y_true - истинные значения классов\n",
        "    y_pred - предсказанные значения классов\n",
        "    Возвращает словарь: ключ - метка класса, \n",
        "    значение - Accuracy для данного класса\n",
        "    \"\"\"\n",
        "    # Для удобства фильтрации сформируем Pandas DataFrame \n",
        "    d = {'t': y_true, 'p': y_pred}\n",
        "    df = pd.DataFrame(data=d)\n",
        "    # Метки классов\n",
        "    classes = np.unique(y_true)\n",
        "    # Результирующий словарь\n",
        "    res = dict()\n",
        "    # Перебор меток классов\n",
        "    for c in classes:\n",
        "        # отфильтруем данные, которые соответствуют \n",
        "        # текущей метке класса в истинных значениях\n",
        "        temp_data_flt = df[df['t']==c]\n",
        "        # расчет accuracy для заданной метки класса\n",
        "        temp_acc = accuracy_score(\n",
        "            temp_data_flt['t'].values, \n",
        "            temp_data_flt['p'].values)\n",
        "        # сохранение результата в словарь\n",
        "        res[c] = temp_acc\n",
        "    return res\n",
        "\n",
        "def print_accuracy_score_for_classes(\n",
        "    y_true: np.ndarray, \n",
        "    y_pred: np.ndarray):\n",
        "    \"\"\"\n",
        "    Вывод метрики accuracy для каждого класса\n",
        "    \"\"\"\n",
        "    accs = accuracy_score_for_classes(y_true, y_pred)\n",
        "    if len(accs)>0:\n",
        "        print('Метка \\t Accuracy')\n",
        "    for i in accs:\n",
        "        print('{} \\t {}'.format(i, accs[i]))"
      ]
    },
    {
      "cell_type": "code",
      "execution_count": 107,
      "metadata": {
        "id": "7oFojKjuOIab"
      },
      "outputs": [],
      "source": [
        "class EmbeddingVectorizer(object):\n",
        "    '''\n",
        "    Для текста усредним вектора входящих в него слов\n",
        "    '''\n",
        "    def __init__(self, model):\n",
        "        self.model = model\n",
        "        self.size = model.vector_size\n",
        "\n",
        "    def fit(self, X, y):\n",
        "        return self\n",
        "\n",
        "    def transform(self, X):\n",
        "        return np.array([np.mean(\n",
        "            [self.model[w] for w in words if w in self.model] \n",
        "            or [np.zeros(self.size)], axis=0)\n",
        "            for words in X])"
      ]
    },
    {
      "cell_type": "code",
      "execution_count": 108,
      "metadata": {
        "id": "KZejOtYNOIab"
      },
      "outputs": [],
      "source": [
        "# Обучающая и тестовая выборки\n",
        "boundary = 700\n",
        "X_train = corpus[:boundary] \n",
        "X_test = corpus[boundary:]\n",
        "y_train = df.target.values[:boundary]\n",
        "y_test = df.target.values[boundary:]"
      ]
    },
    {
      "cell_type": "code",
      "execution_count": 109,
      "metadata": {
        "colab": {
          "base_uri": "https://localhost:8080/"
        },
        "id": "cPfz-n4yOIab",
        "outputId": "799fea22-a329-4ad3-d8a6-28929516e876"
      },
      "outputs": [
        {
          "output_type": "stream",
          "name": "stdout",
          "text": [
            "Метка \t Accuracy\n",
            "0 \t 0.905306174573782\n",
            "1 \t 0.871027559306861\n"
          ]
        }
      ],
      "source": [
        "sentiment(EmbeddingVectorizer(model_imdb.wv), LogisticRegression(C=5.0))"
      ]
    },
    {
      "cell_type": "code",
      "execution_count": 110,
      "metadata": {
        "colab": {
          "base_uri": "https://localhost:8080/"
        },
        "id": "DJ2wheQ5OIab",
        "outputId": "5a1e33a8-3721-4283-90c7-7c65a5f0f0f2"
      },
      "outputs": [
        {
          "output_type": "execute_result",
          "data": {
            "text/plain": [
              "['Mamdouh Habib to be released from Guantanamo Bay without charge',\n",
              " 'How Much British History Do You Actually Know',\n",
              " 'How Many Of These \"Harry Potter\" Characters Can You Name',\n",
              " 'Man arrested in connection with July 21 London bomb attempts',\n",
              " 'Gangs Said to Contact Politicians',\n",
              " 'American tourist killed in Beijing',\n",
              " 'Do You Know Which TV Show This \"B\" Is From',\n",
              " 'People Eat King Cake For The First Time',\n",
              " 'A \"Rugrats\" Artist Is \"Bugged\" By People Thinking The Babies Grew Up To Be Really Attractive']"
            ]
          },
          "metadata": {},
          "execution_count": 110
        }
      ],
      "source": [
        "# Сформируем общий словарь для обучения моделей из обучающей и тестовой выборки\n",
        "vocab_list = df['text'].tolist()\n",
        "vocab_list[1:10]"
      ]
    },
    {
      "cell_type": "code",
      "execution_count": 111,
      "metadata": {
        "colab": {
          "base_uri": "https://localhost:8080/"
        },
        "id": "btnAvIkLOIab",
        "outputId": "3d2c2a0a-e2e1-4f3e-b63d-417f44232b1d"
      },
      "outputs": [
        {
          "output_type": "stream",
          "name": "stdout",
          "text": [
            "Количество сформированных признаков - 22761\n"
          ]
        }
      ],
      "source": [
        "vocabVect = CountVectorizer()\n",
        "vocabVect.fit(vocab_list)\n",
        "corpusVocab = vocabVect.vocabulary_\n",
        "print('Количество сформированных признаков - {}'.format(len(corpusVocab)))"
      ]
    },
    {
      "cell_type": "code",
      "execution_count": 112,
      "metadata": {
        "colab": {
          "base_uri": "https://localhost:8080/"
        },
        "id": "4jZF8t6DOIab",
        "outputId": "90460676-d816-4e66-9626-4fc27cd3065c"
      },
      "outputs": [
        {
          "output_type": "stream",
          "name": "stdout",
          "text": [
            "do=6160\n",
            "you=22629\n",
            "actually=641\n",
            "deserve=5743\n",
            "for=7983\n",
            "christmas=4003\n",
            "mamdouh=12367\n",
            "habib=9116\n",
            "to=20630\n"
          ]
        }
      ],
      "source": [
        "for i in list(corpusVocab)[1:10]:\n",
        "    print('{}={}'.format(i, corpusVocab[i]))"
      ]
    },
    {
      "cell_type": "code",
      "execution_count": 113,
      "metadata": {
        "id": "pGPLu-M9OIac"
      },
      "outputs": [],
      "source": [
        "def VectorizeAndClassify(vectorizers_list, classifiers_list):\n",
        "    for v in vectorizers_list:\n",
        "        for c in classifiers_list:\n",
        "            pipeline1 = Pipeline([(\"vectorizer\", v), (\"classifier\", c)])\n",
        "            score = cross_val_score(pipeline1, df['text'], df['target'], scoring='accuracy', cv=3).mean()\n",
        "            print('Векторизация - {}'.format(v))\n",
        "            print('Модель для классификации - {}'.format(c))\n",
        "            print('Accuracy = {}'.format(score))\n",
        "            print('===========================')"
      ]
    },
    {
      "cell_type": "code",
      "execution_count": 114,
      "metadata": {
        "id": "nRdCsZt2OIac"
      },
      "outputs": [],
      "source": [
        "import numpy as np\n",
        "import pandas as pd\n",
        "from typing import Dict, Tuple\n",
        "from scipy import stats\n",
        "from IPython.display import Image\n",
        "from sklearn.datasets import load_iris, load_boston\n",
        "from sklearn.feature_extraction.text import CountVectorizer, TfidfVectorizer\n",
        "from sklearn.model_selection import train_test_split\n",
        "from sklearn.neighbors import KNeighborsRegressor, KNeighborsClassifier\n",
        "from sklearn.linear_model import LogisticRegression\n",
        "from sklearn.model_selection import GridSearchCV, RandomizedSearchCV\n",
        "from sklearn.metrics import accuracy_score, balanced_accuracy_score\n",
        "from sklearn.metrics import precision_score, recall_score, f1_score, classification_report\n",
        "from sklearn.metrics import confusion_matrix\n",
        "from sklearn.model_selection import cross_val_score\n",
        "from sklearn.pipeline import Pipeline\n",
        "from sklearn.metrics import mean_absolute_error, mean_squared_error, mean_squared_log_error, median_absolute_error, r2_score \n",
        "from sklearn.metrics import roc_curve, roc_auc_score\n",
        "from sklearn.svm import SVC, NuSVC, LinearSVC, OneClassSVM, SVR, NuSVR, LinearSVR\n",
        "import seaborn as sns\n",
        "import matplotlib.pyplot as plt\n",
        "%matplotlib inline \n",
        "sns.set(style=\"ticks\")\n",
        "\n",
        "import warnings\n",
        "warnings.filterwarnings('ignore')"
      ]
    },
    {
      "cell_type": "code",
      "execution_count": 115,
      "metadata": {
        "colab": {
          "base_uri": "https://localhost:8080/"
        },
        "id": "BUU8AQLzOIac",
        "outputId": "1e21005e-293e-43ef-a50e-71e13c9a7b86"
      },
      "outputs": [
        {
          "output_type": "stream",
          "name": "stdout",
          "text": [
            "Векторизация - CountVectorizer(vocabulary={'00': 0, '000': 1, '000th': 2, '00s': 3, '01': 4,\n",
            "                            '04': 5, '05': 6, '08': 7, '08m': 8, '09': 9,\n",
            "                            '10': 10, '100': 11, '1000': 12, '10000th': 13,\n",
            "                            '1000blackgirls': 14, '100k': 15, '100m': 16,\n",
            "                            '100th': 17, '100ºf': 18, '101': 19, '101st': 20,\n",
            "                            '102': 21, '103': 22, '104': 23, '105': 24,\n",
            "                            '106': 25, '107': 26, '108': 27, '109': 28,\n",
            "                            '109th': 29, ...})\n",
            "Модель для классификации - LogisticRegression(C=3.0)\n",
            "Accuracy = 0.9717499950618573\n",
            "===========================\n",
            "Векторизация - CountVectorizer(vocabulary={'00': 0, '000': 1, '000th': 2, '00s': 3, '01': 4,\n",
            "                            '04': 5, '05': 6, '08': 7, '08m': 8, '09': 9,\n",
            "                            '10': 10, '100': 11, '1000': 12, '10000th': 13,\n",
            "                            '1000blackgirls': 14, '100k': 15, '100m': 16,\n",
            "                            '100th': 17, '100ºf': 18, '101': 19, '101st': 20,\n",
            "                            '102': 21, '103': 22, '104': 23, '105': 24,\n",
            "                            '106': 25, '107': 26, '108': 27, '109': 28,\n",
            "                            '109th': 29, ...})\n",
            "Модель для классификации - LinearSVC()\n",
            "Accuracy = 0.9703750233803694\n",
            "===========================\n",
            "Векторизация - CountVectorizer(vocabulary={'00': 0, '000': 1, '000th': 2, '00s': 3, '01': 4,\n",
            "                            '04': 5, '05': 6, '08': 7, '08m': 8, '09': 9,\n",
            "                            '10': 10, '100': 11, '1000': 12, '10000th': 13,\n",
            "                            '1000blackgirls': 14, '100k': 15, '100m': 16,\n",
            "                            '100th': 17, '100ºf': 18, '101': 19, '101st': 20,\n",
            "                            '102': 21, '103': 22, '104': 23, '105': 24,\n",
            "                            '106': 25, '107': 26, '108': 27, '109': 28,\n",
            "                            '109th': 29, ...})\n",
            "Модель для классификации - KNeighborsClassifier()\n",
            "Accuracy = 0.7986253863375131\n",
            "===========================\n",
            "Векторизация - TfidfVectorizer(vocabulary={'00': 0, '000': 1, '000th': 2, '00s': 3, '01': 4,\n",
            "                            '04': 5, '05': 6, '08': 7, '08m': 8, '09': 9,\n",
            "                            '10': 10, '100': 11, '1000': 12, '10000th': 13,\n",
            "                            '1000blackgirls': 14, '100k': 15, '100m': 16,\n",
            "                            '100th': 17, '100ºf': 18, '101': 19, '101st': 20,\n",
            "                            '102': 21, '103': 22, '104': 23, '105': 24,\n",
            "                            '106': 25, '107': 26, '108': 27, '109': 28,\n",
            "                            '109th': 29, ...})\n",
            "Модель для классификации - LogisticRegression(C=3.0)\n",
            "Accuracy = 0.9699999794329509\n",
            "===========================\n",
            "Векторизация - TfidfVectorizer(vocabulary={'00': 0, '000': 1, '000th': 2, '00s': 3, '01': 4,\n",
            "                            '04': 5, '05': 6, '08': 7, '08m': 8, '09': 9,\n",
            "                            '10': 10, '100': 11, '1000': 12, '10000th': 13,\n",
            "                            '1000blackgirls': 14, '100k': 15, '100m': 16,\n",
            "                            '100th': 17, '100ºf': 18, '101': 19, '101st': 20,\n",
            "                            '102': 21, '103': 22, '104': 23, '105': 24,\n",
            "                            '106': 25, '107': 26, '108': 27, '109': 28,\n",
            "                            '109th': 29, ...})\n",
            "Модель для классификации - LinearSVC()\n",
            "Accuracy = 0.9751874696771529\n",
            "===========================\n",
            "Векторизация - TfidfVectorizer(vocabulary={'00': 0, '000': 1, '000th': 2, '00s': 3, '01': 4,\n",
            "                            '04': 5, '05': 6, '08': 7, '08m': 8, '09': 9,\n",
            "                            '10': 10, '100': 11, '1000': 12, '10000th': 13,\n",
            "                            '1000blackgirls': 14, '100k': 15, '100m': 16,\n",
            "                            '100th': 17, '100ºf': 18, '101': 19, '101st': 20,\n",
            "                            '102': 21, '103': 22, '104': 23, '105': 24,\n",
            "                            '106': 25, '107': 26, '108': 27, '109': 28,\n",
            "                            '109th': 29, ...})\n",
            "Модель для классификации - KNeighborsClassifier()\n",
            "Accuracy = 0.9432811942234155\n",
            "===========================\n"
          ]
        }
      ],
      "source": [
        "vectorizers_list = [CountVectorizer(vocabulary = corpusVocab), TfidfVectorizer(vocabulary = corpusVocab)]\n",
        "classifiers_list = [LogisticRegression(C=3.0), LinearSVC(), KNeighborsClassifier()]\n",
        "VectorizeAndClassify(vectorizers_list, classifiers_list)"
      ]
    },
    {
      "cell_type": "code",
      "execution_count": 116,
      "metadata": {
        "id": "5HgVuIB3OIac"
      },
      "outputs": [],
      "source": [
        "X_train, X_test, y_train, y_test = train_test_split(df['text'], df['target'], test_size=0.5, random_state=1)"
      ]
    },
    {
      "cell_type": "code",
      "execution_count": 117,
      "metadata": {
        "id": "DHVtckkxOIac"
      },
      "outputs": [],
      "source": [
        "def sentiment(v, c):\n",
        "    model = Pipeline(\n",
        "        [(\"vectorizer\", v), \n",
        "         (\"classifier\", c)])\n",
        "    model.fit(X_train, y_train)\n",
        "    y_pred = model.predict(X_test)\n",
        "    print_accuracy_score_for_classes(y_test, y_pred)"
      ]
    },
    {
      "cell_type": "code",
      "execution_count": 118,
      "metadata": {
        "colab": {
          "base_uri": "https://localhost:8080/"
        },
        "id": "cvkDQKBOOIac",
        "outputId": "05b58d68-60ae-4651-9e76-aa096a8da204"
      },
      "outputs": [
        {
          "output_type": "stream",
          "name": "stdout",
          "text": [
            "Метка \t Accuracy\n",
            "0 \t 0.9735957155311994\n",
            "1 \t 0.960607201104002\n"
          ]
        }
      ],
      "source": [
        "sentiment(TfidfVectorizer(), LogisticRegression(C=5.0))"
      ]
    },
    {
      "cell_type": "code",
      "execution_count": 119,
      "metadata": {
        "colab": {
          "base_uri": "https://localhost:8080/"
        },
        "id": "GXDNT7WBOIad",
        "outputId": "f45aedcd-20eb-42a3-b652-8003c3746d8b"
      },
      "outputs": [
        {
          "output_type": "stream",
          "name": "stdout",
          "text": [
            "Метка \t Accuracy\n",
            "0 \t 0.9447004608294931\n",
            "1 \t 0.9720235854974282\n"
          ]
        }
      ],
      "source": [
        "sentiment(TfidfVectorizer(ngram_range=(1,3)),  LogisticRegression(C=5.0))"
      ]
    },
    {
      "cell_type": "code",
      "execution_count": 120,
      "metadata": {
        "colab": {
          "base_uri": "https://localhost:8080/"
        },
        "id": "5VX0YHOdOIad",
        "outputId": "b7a7739f-8d05-4067-e29b-ecc378efcae1"
      },
      "outputs": [
        {
          "output_type": "stream",
          "name": "stdout",
          "text": [
            "Метка \t Accuracy\n",
            "0 \t 0.9527961140864367\n",
            "1 \t 0.9055325555137373\n"
          ]
        }
      ],
      "source": [
        "sentiment(TfidfVectorizer(ngram_range=(2,3)), LogisticRegression(C=5.0))"
      ]
    },
    {
      "cell_type": "code",
      "execution_count": 121,
      "metadata": {
        "colab": {
          "base_uri": "https://localhost:8080/"
        },
        "id": "owph7V6fOIad",
        "outputId": "18e54722-d1cd-4e20-a99a-4fcc08ee4584"
      },
      "outputs": [
        {
          "output_type": "stream",
          "name": "stdout",
          "text": [
            "Метка \t Accuracy\n",
            "0 \t 0.9351102254328061\n",
            "1 \t 0.974658135742065\n"
          ]
        }
      ],
      "source": [
        "sentiment(TfidfVectorizer(ngram_range=(1,4)), LogisticRegression(C=5.0))"
      ]
    },
    {
      "cell_type": "code",
      "execution_count": 122,
      "metadata": {
        "colab": {
          "base_uri": "https://localhost:8080/"
        },
        "id": "Tjhbai50OIad",
        "outputId": "759b47e4-9180-4b5e-88c2-b7b759bc0020"
      },
      "outputs": [
        {
          "output_type": "stream",
          "name": "stdout",
          "text": [
            "Метка \t Accuracy\n",
            "0 \t 0.9427076846431686\n",
            "1 \t 0.9111780203236733\n"
          ]
        }
      ],
      "source": [
        "sentiment(TfidfVectorizer(ngram_range=(2,6)), LogisticRegression(C=5.0))"
      ]
    },
    {
      "cell_type": "code",
      "execution_count": 123,
      "metadata": {
        "id": "Lt8g-6N7OIad"
      },
      "outputs": [],
      "source": [
        "os.remove('./datasets/dataset.csv')"
      ]
    }
  ],
  "metadata": {
    "kernelspec": {
      "display_name": "Python 3",
      "language": "python",
      "name": "python3"
    },
    "language_info": {
      "codemirror_mode": {
        "name": "ipython",
        "version": 3
      },
      "file_extension": ".py",
      "mimetype": "text/x-python",
      "name": "python",
      "nbconvert_exporter": "python",
      "pygments_lexer": "ipython3",
      "version": "3.8.5"
    },
    "colab": {
      "name": "lab5_mmo.ipynb",
      "provenance": []
    }
  },
  "nbformat": 4,
  "nbformat_minor": 0
}