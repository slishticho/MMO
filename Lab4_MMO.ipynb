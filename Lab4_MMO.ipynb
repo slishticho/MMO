{
  "cells": [
    {
      "cell_type": "code",
      "execution_count": 1,
      "metadata": {
        "id": "bBG_smNFWaor"
      },
      "outputs": [],
      "source": [
        "import os\n",
        "import numpy as np\n",
        "import pandas as pd\n",
        "\n",
        "import matplotlib.pyplot as plt\n",
        "import seaborn as sns\n",
        "\n",
        "from scipy.sparse import csr_matrix\n",
        "from sklearn.neighbors import NearestNeighbors"
      ]
    },
    {
      "cell_type": "code",
      "execution_count": 2,
      "metadata": {
        "id": "-9sh4FVjWaos"
      },
      "outputs": [],
      "source": [
        "import zipfile\n",
        "\n",
        "with zipfile.ZipFile('BX-CSV-Dump.zip', 'r') as zipref:\n",
        "    zipref.extractall('datasets')"
      ]
    },
    {
      "cell_type": "markdown",
      "source": [
        "Создание рекомендательной системы\n",
        " \n",
        "Датасет книг с оценками пользователей\n"
      ],
      "metadata": {
        "id": "Q_s4T5Z4lLV5"
      }
    },
    {
      "cell_type": "code",
      "execution_count": 3,
      "metadata": {
        "colab": {
          "base_uri": "https://localhost:8080/"
        },
        "id": "17rql86cWaot",
        "outputId": "d3e342dc-ebbe-453e-c4da-8c839bd1f190"
      },
      "outputs": [
        {
          "output_type": "stream",
          "name": "stderr",
          "text": [
            "/usr/local/lib/python3.7/dist-packages/IPython/core/interactiveshell.py:2882: DtypeWarning: Columns (3) have mixed types.Specify dtype option on import or set low_memory=False.\n",
            "  exec(code_obj, self.user_global_ns, self.user_ns)\n"
          ]
        }
      ],
      "source": [
        "path = './datasets/'\n",
        "ratings = pd.read_csv(path + 'BX-Book-Ratings.csv', encoding='windows-1251', sep=';')\n",
        "books = pd.read_csv(path + 'BX-Books.csv', encoding='windows-1251', sep=';',\n",
        "                   usecols=['ISBN',\n",
        "                            'Book-Title',\n",
        "                            'Book-Author',\n",
        "                            'Year-Of-Publication',\n",
        "                            'Publisher',\n",
        "                            'Image-URL-S',\n",
        "                            'Image-URL-M',\n",
        "                            'Image-URL-L'])\n",
        "users = pd.read_csv(path + 'BX-Users.csv', encoding='windows-1251', sep=';')\n",
        "\n",
        "ratings = ratings.rename(columns={'Book-Rating': 'Rating'})\n",
        "ratings[\"Rating\"] = ratings[\"Rating\"].astype(\"int8\")\n",
        "books.drop(['Image-URL-S', 'Image-URL-M', 'Image-URL-L'], axis=1, inplace=True)\n",
        "books = books.rename(columns={'Book-Title': 'Title', 'Book-Author': 'Author'})"
      ]
    },
    {
      "cell_type": "markdown",
      "metadata": {
        "id": "FYPkw5EpWaot"
      },
      "source": [
        "## Средние значения и количество"
      ]
    },
    {
      "cell_type": "code",
      "execution_count": 4,
      "metadata": {
        "id": "_5Xs9pXEWaou"
      },
      "outputs": [],
      "source": [
        "avg_user_rating = ratings.groupby('User-ID')['Rating'].mean()\n",
        "cnt_user_rating = ratings.groupby('User-ID')['Rating'].count()\n",
        "\n",
        "avg_book_rating = ratings.groupby('ISBN')['Rating'].mean()\n",
        "cnt_book_rating = ratings.groupby('ISBN')['Rating'].count()\n",
        "\n",
        "avg_user_rating.name = 'avg_rating'\n",
        "cnt_user_rating.name = 'N_ratings'\n",
        "avg_book_rating.name = 'avg_rating'\n",
        "cnt_book_rating.name = 'N_ratings'"
      ]
    },
    {
      "cell_type": "code",
      "execution_count": 5,
      "metadata": {
        "id": "4dm2lI8AWaov"
      },
      "outputs": [],
      "source": [
        "users = users.merge(avg_user_rating, on=['User-ID'])\n",
        "users = users.merge(cnt_user_rating, on=['User-ID'])\n",
        "\n",
        "books = books.merge(avg_book_rating, on=['ISBN'])\n",
        "books = books.merge(cnt_book_rating, on=['ISBN'])"
      ]
    },
    {
      "cell_type": "markdown",
      "metadata": {
        "id": "leVx7IXSWaov"
      },
      "source": [
        "# KNN model - модель ближайших соседей (рекомендация похожей книги)\n",
        "## Найти наиболее похожую книгу (используя оценки пользователей) и порекомендовать ее.\n",
        "\n"
      ]
    },
    {
      "cell_type": "markdown",
      "source": [
        "Выбираем книги у которых более 20 оценок от пользователей"
      ],
      "metadata": {
        "id": "HvXY3TbSmJID"
      }
    },
    {
      "cell_type": "code",
      "execution_count": 6,
      "metadata": {
        "id": "QlLfBaPqWaov"
      },
      "outputs": [],
      "source": [
        "pd_matrix = \\\n",
        "    pd.merge(books.loc[books[\"N_ratings\"] > 20, \"ISBN\"], \n",
        "             ratings, how=\"left\", left_on=\"ISBN\", right_on=\"ISBN\").drop_duplicates()\n",
        "\n",
        "pd_matrix = pd_matrix.pivot(index='ISBN', columns='User-ID', values='Rating').fillna(0).astype('int8')"
      ]
    },
    {
      "cell_type": "code",
      "execution_count": 7,
      "metadata": {
        "id": "U1mBJrk5Waov"
      },
      "outputs": [],
      "source": [
        "# Сжимаем матрицу\n",
        "matrix = csr_matrix(pd_matrix.values)"
      ]
    },
    {
      "cell_type": "code",
      "execution_count": 8,
      "metadata": {
        "colab": {
          "base_uri": "https://localhost:8080/"
        },
        "id": "ObAWQOMVWaov",
        "outputId": "e2679394-d76a-48d9-845b-75fe6b622c46"
      },
      "outputs": [
        {
          "output_type": "execute_result",
          "data": {
            "text/plain": [
              "NearestNeighbors(metric='cosine', n_jobs=-1, n_neighbors=11)"
            ]
          },
          "metadata": {},
          "execution_count": 8
        }
      ],
      "source": [
        "# Создаем модель\n",
        "N_predicted_neighbours = 11\n",
        "KNN = NearestNeighbors(metric='cosine', n_neighbors=N_predicted_neighbours, n_jobs=-1)\n",
        "# Обучение модели\n",
        "KNN.fit(matrix)"
      ]
    },
    {
      "cell_type": "code",
      "execution_count": 9,
      "metadata": {
        "colab": {
          "base_uri": "https://localhost:8080/"
        },
        "id": "pjldmcgzWaow",
        "outputId": "77fc31bd-1b0e-4f1f-baa8-97c4333a57cf"
      },
      "outputs": [
        {
          "output_type": "execute_result",
          "data": {
            "text/plain": [
              "((6863, 11), (6863, 11))"
            ]
          },
          "metadata": {},
          "execution_count": 9
        }
      ],
      "source": [
        "# Предсказание\n",
        "distances, indices = KNN.kneighbors(matrix)\n",
        "distances.shape, indices.shape"
      ]
    },
    {
      "cell_type": "code",
      "execution_count": 18,
      "metadata": {
        "colab": {
          "base_uri": "https://localhost:8080/"
        },
        "id": "sVVSuGfwWaow",
        "outputId": "056cb545-c6f0-40cc-9878-55fc598a8254"
      },
      "outputs": [
        {
          "output_type": "stream",
          "name": "stdout",
          "text": [
            "Because you liked Princess in the Spotlight (The Princess Diaries, Vol. 2) you may like:\n",
            "\n",
            "The Princess Diaries with distance 0.502.\n",
            "Gossip Girl #1 : A Novel by Cecily von Ziegesar (Gossip Girl) with distance 0.752.\n",
            "Knocked Out by My Nunga-Nungas : Further, Further Confessions of Georgia Nicolson (Confessions of Georgia Nicolson) with distance 0.836.\n",
            "Irish Chain (Benni Harper Mysteries (Paperback)) with distance 0.841.\n",
            "Whatever Happened to Janie? with distance 0.851.\n",
            "Amanda's Wedding: A Novel with distance 0.861.\n",
            "Emily of New Moon with distance 0.867.\n",
            "The Second Summer of the Sisterhood with distance 0.872.\n",
            "It's Always Something with distance 0.875.\n",
            "The Book of Three (Chronicles of Prydain (Paperback)) with distance 0.882.\n"
          ]
        }
      ],
      "source": [
        "# Предсказание 11 книг\n",
        "\n",
        "print(f\"Because you liked {books.loc[books['ISBN'] == pd_matrix.index[indices[489][0]], 'Title'].values[0]} you may like:\")\n",
        "print()\n",
        "for i in range(1, N_predicted_neighbours):\n",
        "    print(f\"{books.loc[books['ISBN'] == pd_matrix.index[indices[489][i]], 'Title'].values[0]} with distance {distances[489][i]:.3f}.\")"
      ]
    },
    {
      "cell_type": "code",
      "execution_count": 20,
      "metadata": {
        "id": "rOTxAGpxWaow"
      },
      "outputs": [],
      "source": [
        "def recommend_similar_book(isbn, indices, ratings_matrix, books_table, N_recommendations=1, distances=None):\n",
        "    \"\"\"\n",
        "    Recommends a book title.\n",
        "    \n",
        "    Parameters\n",
        "    ----------\n",
        "    ISBN: str\n",
        "        ISBN of a book a user liked\n",
        "    indices: np.array\n",
        "        indices of ratings_matrix as predicted by KNN\n",
        "    ratings_matrix: pd.DataFrame\n",
        "        user-book-rating matrix with ratings as values\n",
        "    N_recommendations: int (default 1)\n",
        "        How many books to recommend?\n",
        "    distances: np.array\n",
        "        How distant are books from each other by KNN?\n",
        "    \"\"\"\n",
        "    # Возврат рекомендации\n",
        "    print(f\"Because you liked {books_table.loc[books_table['ISBN'] == ratings_matrix.index[indices[isbn][0]], 'Title'].values[0]} you may like:\")\n",
        "    print()\n",
        "    for i in range(1, 1+N_recommendations):\n",
        "        if distances:\n",
        "            print(f\"{books_table.loc[books_table['ISBN'] == ratings_matrix.index[indices[isbn][i]], 'Title'].values[0]} with distance {distances[isbn][i]:.3f}.\")\n",
        "        else:\n",
        "            print(f\"{books_table.loc[books_table['ISBN'] == ratings_matrix.index[indices[isbn][i]], 'Title'].values[0]}.\")"
      ]
    },
    {
      "cell_type": "code",
      "execution_count": 21,
      "metadata": {
        "colab": {
          "base_uri": "https://localhost:8080/"
        },
        "id": "1NvfA_FOWaox",
        "outputId": "a8b2c04c-cd33-4f72-b364-e4793b7e561b"
      },
      "outputs": [
        {
          "output_type": "stream",
          "name": "stdout",
          "text": [
            "Because you liked Princess in the Spotlight (The Princess Diaries, Vol. 2) you may like:\n",
            "\n",
            "The Princess Diaries.\n"
          ]
        }
      ],
      "source": [
        "recommend_similar_book(489, indices, pd_matrix, books)"
      ]
    },
    {
      "cell_type": "markdown",
      "metadata": {
        "id": "AhoU2d1mWaox"
      },
      "source": [
        "# KNN model - предлагает любимую книгу пользователя\n",
        "## На основе книги, которую мы задаем, модель находит похожих пользователей и предлагает другие книги на основании их прочтений"
      ]
    },
    {
      "cell_type": "code",
      "execution_count": 13,
      "metadata": {
        "id": "R9DeH81NWaox"
      },
      "outputs": [],
      "source": [
        "# Создание модели\n",
        "KNN2 = NearestNeighbors(metric='cosine', n_neighbors=20, n_jobs=-1)"
      ]
    },
    {
      "cell_type": "code",
      "execution_count": 14,
      "metadata": {
        "colab": {
          "base_uri": "https://localhost:8080/"
        },
        "id": "f5ptFRERWaox",
        "outputId": "a74d1f43-7a51-4ff5-cab8-1ce73cfc230a"
      },
      "outputs": [
        {
          "output_type": "execute_result",
          "data": {
            "text/plain": [
              "NearestNeighbors(metric='cosine', n_jobs=-1, n_neighbors=20)"
            ]
          },
          "metadata": {},
          "execution_count": 14
        }
      ],
      "source": [
        "# Обучение\n",
        "KNN2.fit(matrix.T)"
      ]
    },
    {
      "cell_type": "code",
      "execution_count": 15,
      "metadata": {
        "colab": {
          "base_uri": "https://localhost:8080/"
        },
        "id": "9KKSuK5JWaoy",
        "outputId": "c88053f1-2873-41bb-e240-1e50d8466257"
      },
      "outputs": [
        {
          "output_type": "stream",
          "name": "stdout",
          "text": [
            "CPU times: user 2min 51s, sys: 3.13 s, total: 2min 54s\n",
            "Wall time: 2min 7s\n"
          ]
        }
      ],
      "source": [
        "%%time\n",
        "\n",
        "# Предсказание\n",
        "distances2, indices2 = KNN2.kneighbors(matrix.T)"
      ]
    },
    {
      "cell_type": "code",
      "execution_count": 16,
      "metadata": {
        "id": "BlEpYY-_Waoy"
      },
      "outputs": [],
      "source": [
        "def recommend_favourite_book_of_similar_user(userID, indices, ratings_matrix, users_table, books_table, ratings_table, N_recommendations=1, distances=None):\n",
        "    \"\"\"\n",
        "    Recommends a book title based on favourite books of ten most similar users.\n",
        "    \n",
        "    The order of books is following:\n",
        "    Take the most similar user, sort his books by rating,\n",
        "    exclude everything the current predicted user already read.\n",
        "    Output books one by one.\n",
        "    If there is only a few books from the most similar user and\n",
        "    we run out of books, take next similar user and output\n",
        "    his favorite books in a similar fashion.\n",
        "    \n",
        "    Parameters\n",
        "    ----------\n",
        "    userID: int\n",
        "        ID of a user we want a recommendation for\n",
        "    indices: np.array\n",
        "        indices of ratings_matrix as predicted by KNN\n",
        "    ratings_matrix: pd.DataFrame\n",
        "        user-book-rating matrix with ratings as values\n",
        "    users_table: pd.DataFrame\n",
        "        Information about users\n",
        "    books_table: pd.DataFrame\n",
        "        Information about books\n",
        "    ratings_table: pd.DataFrame\n",
        "        Information about ratings\n",
        "    N_recommendations: int (default 1)\n",
        "        How many books to recommend?\n",
        "    distances: np.array\n",
        "        How distant are books from each other by KNN?\n",
        "    \"\"\"\n",
        "    selected_index = ratings_matrix.columns.get_loc(userID)\n",
        "    already_read_book_isbns = list(ratings_table.loc[ratings_table[\"User-ID\"] == userID, \"ISBN\"].values)\n",
        "    not_read_books = ratings_table.loc[~ratings_table[\"ISBN\"].isin(already_read_book_isbns)]\n",
        "    books_to_recommend = list()\n",
        "    for i in range(1,10):\n",
        "        similar_user_index = indices[selected_index][i]\n",
        "        similar_user_ID = ratings_matrix.columns[similar_user_index]\n",
        "        possible_to_recommend = not_read_books.loc[not_read_books[\"User-ID\"] == similar_user_ID]\n",
        "        possible_to_recommend = possible_to_recommend.sort_values(by=\"Rating\", ascending=False)\n",
        "        for a, row in possible_to_recommend.iterrows():\n",
        "            books_to_recommend.append(books_table.loc[books[\"ISBN\"] == row[\"ISBN\"], \"Title\"].values[0])\n",
        "            if len(books_to_recommend) > N_recommendations-1:\n",
        "                break\n",
        "        if len(books_to_recommend) > N_recommendations-1:\n",
        "            break\n",
        "    print(f\"Based on users who like similar books as you, you may like:\")\n",
        "    print()\n",
        "    for book_name in books_to_recommend:\n",
        "        print(book_name)"
      ]
    },
    {
      "cell_type": "code",
      "execution_count": 24,
      "metadata": {
        "colab": {
          "base_uri": "https://localhost:8080/"
        },
        "id": "rDHCdqxmWaoz",
        "outputId": "ada0ecf3-718f-4373-9ef1-8303ec6f8623"
      },
      "outputs": [
        {
          "output_type": "stream",
          "name": "stdout",
          "text": [
            "Based on users who like similar books as you, you may like:\n",
            "\n",
            "The First Immortal\n",
            "Nightswimmer: A Novel\n",
            "Rockets, Redheads &amp; Revolution\n"
          ]
        }
      ],
      "source": [
        "recommend_favourite_book_of_similar_user(175002, \n",
        "                                         indices2, \n",
        "                                         pd_matrix, \n",
        "                                         users, \n",
        "                                         books, \n",
        "                                         ratings, \n",
        "                                         N_recommendations=3, \n",
        "                                         distances=distances2)"
      ]
    },
    {
      "cell_type": "code",
      "execution_count": 17,
      "metadata": {
        "id": "WESc5IikWaoz"
      },
      "outputs": [],
      "source": [
        ""
      ]
    }
  ],
  "metadata": {
    "kernelspec": {
      "display_name": "Python 3",
      "language": "python",
      "name": "python3"
    },
    "language_info": {
      "codemirror_mode": {
        "name": "ipython",
        "version": 3
      },
      "file_extension": ".py",
      "mimetype": "text/x-python",
      "name": "python",
      "nbconvert_exporter": "python",
      "pygments_lexer": "ipython3",
      "version": "3.8.5"
    },
    "colab": {
      "name": "Lab4_MMO.ipynb",
      "provenance": []
    }
  },
  "nbformat": 4,
  "nbformat_minor": 0
}